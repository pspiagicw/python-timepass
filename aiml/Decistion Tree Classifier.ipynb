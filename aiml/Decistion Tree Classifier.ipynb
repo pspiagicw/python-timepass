{
 "cells": [
  {
   "cell_type": "code",
   "execution_count": 286,
   "id": "0a8b4209-5970-45eb-af29-e0b376a7e0ca",
   "metadata": {},
   "outputs": [],
   "source": [
    "training_data = [\n",
    "    [ 'Green' , 3 , 'Apple'],\n",
    "    [ 'Yellow' , 3 , 'Apple'],\n",
    "    [ 'Red' , 1 , 'Grape'],\n",
    "    [ 'Red' , 1 , 'Grape'],\n",
    "    [ 'Yellow' , 3 , 'Lemon']\n",
    "    \n",
    "]"
   ]
  },
  {
   "cell_type": "code",
   "execution_count": 315,
   "id": "e10f825b-4557-41df-a5a1-56e752a1992b",
   "metadata": {},
   "outputs": [],
   "source": [
    "from sklearn.datasets import load_digits"
   ]
  },
  {
   "cell_type": "code",
   "execution_count": 320,
   "id": "7ede39e6-46ff-47e3-a860-5cefaa1d1478",
   "metadata": {},
   "outputs": [],
   "source": [
    "dataset = load_digits()"
   ]
  },
  {
   "cell_type": "code",
   "execution_count": 321,
   "id": "af3831ef-ca9b-4c0e-ad0d-00fc6a46db0a",
   "metadata": {},
   "outputs": [],
   "source": [
    "data , label = dataset['data'] , dataset['target']"
   ]
  },
  {
   "cell_type": "code",
   "execution_count": 322,
   "id": "e56317b0-445b-4570-9586-107e04896d3d",
   "metadata": {},
   "outputs": [
    {
     "data": {
      "text/plain": [
       "array([[ 0.,  0.,  5., ...,  0.,  0.,  0.],\n",
       "       [ 0.,  0.,  0., ..., 10.,  0.,  0.],\n",
       "       [ 0.,  0.,  0., ..., 16.,  9.,  0.],\n",
       "       ...,\n",
       "       [ 0.,  0.,  1., ...,  6.,  0.,  0.],\n",
       "       [ 0.,  0.,  2., ..., 12.,  0.,  0.],\n",
       "       [ 0.,  0., 10., ..., 12.,  1.,  0.]])"
      ]
     },
     "execution_count": 322,
     "metadata": {},
     "output_type": "execute_result"
    }
   ],
   "source": [
    "data"
   ]
  },
  {
   "cell_type": "code",
   "execution_count": 266,
   "id": "7f57ab78-c916-4956-8aba-89f4a622aa1c",
   "metadata": {},
   "outputs": [],
   "source": [
    "from collections import Counter"
   ]
  },
  {
   "cell_type": "code",
   "execution_count": 267,
   "id": "fbf162e5-ac19-4b7e-8d88-589ce512476b",
   "metadata": {},
   "outputs": [],
   "source": [
    "def gini(rows):\n",
    "    labels = [ rows[i][-1] for i in range(len(rows)) ]\n",
    "    count_dict = Counter(labels)\n",
    "    impurity = 1\n",
    "    for label in count_dict:\n",
    "        probab_of_indivisual_label = count_dict[label] / len(rows)\n",
    "        impurity -= probab_of_indivisual_label**2\n",
    "    return impurity\n",
    "        \n",
    "    "
   ]
  },
  {
   "cell_type": "code",
   "execution_count": 268,
   "id": "443b56e1-4acf-46fc-874e-9f6279e5e8e3",
   "metadata": {},
   "outputs": [
    {
     "data": {
      "text/plain": [
       "0.6399999999999999"
      ]
     },
     "execution_count": 268,
     "metadata": {},
     "output_type": "execute_result"
    }
   ],
   "source": [
    "gini(training_data)"
   ]
  },
  {
   "cell_type": "code",
   "execution_count": 269,
   "id": "89d3e656-63bb-48dd-89b5-517c69b0ef68",
   "metadata": {},
   "outputs": [],
   "source": [
    "class Question:\n",
    "    def __init__(self,column,value):\n",
    "        self.column = column\n",
    "        self.value = value\n",
    "    def __str__(self):\n",
    "        return 'Question column: {column} , value: {value}'.format(column=self.column,value=self.value)"
   ]
  },
  {
   "cell_type": "code",
   "execution_count": 270,
   "id": "65e68c98-1652-4689-88e0-aa18dde1ae85",
   "metadata": {},
   "outputs": [],
   "source": [
    "def split_dataset(rows,question):\n",
    "    question_value = question.value\n",
    "    question_column = question.column\n",
    "    \n",
    "    true_dataset = list()\n",
    "    false_dataset = list()\n",
    "    for row in rows:\n",
    "        data_point = row[question_column]\n",
    "        if str(data_point).isnumeric():\n",
    "            if float(data_point) <=question_value:\n",
    "                true_dataset.append(row)\n",
    "            else:\n",
    "                false_dataset.append(row)\n",
    "        else:\n",
    "            if data_point == question_value:\n",
    "                true_dataset.append(row)\n",
    "            else:\n",
    "                false_dataset.append(row)\n",
    "    return true_dataset , false_dataset"
   ]
  },
  {
   "cell_type": "code",
   "execution_count": 271,
   "id": "b4413327-cdd8-4f9b-8b8f-540a19642c9e",
   "metadata": {},
   "outputs": [],
   "source": [
    "question = Question(0,'Green')"
   ]
  },
  {
   "cell_type": "code",
   "execution_count": 272,
   "id": "7265f9a3-d3f0-4251-8429-82373190ab84",
   "metadata": {},
   "outputs": [
    {
     "data": {
      "text/plain": [
       "[['Green', 3, 'Apple']]"
      ]
     },
     "execution_count": 272,
     "metadata": {},
     "output_type": "execute_result"
    }
   ],
   "source": [
    "true_rows , false_rows = split_dataset(training_data,question)\n",
    "true_rows"
   ]
  },
  {
   "cell_type": "code",
   "execution_count": 273,
   "id": "d8d9a54e-b84c-4cdb-bc2c-89be3be0f0ff",
   "metadata": {},
   "outputs": [
    {
     "data": {
      "text/plain": [
       "[['Yellow', 3, 'Apple'],\n",
       " ['Red', 1, 'Grape'],\n",
       " ['Red', 1, 'Grape'],\n",
       " ['Yellow', 3, 'Lemon']]"
      ]
     },
     "execution_count": 273,
     "metadata": {},
     "output_type": "execute_result"
    }
   ],
   "source": [
    "false_rows"
   ]
  },
  {
   "cell_type": "code",
   "execution_count": 274,
   "id": "1911cefe-bddc-499c-8351-f3ea91f76f43",
   "metadata": {},
   "outputs": [],
   "source": [
    "def info_gain(left , right , current):\n",
    "    fraction = len(left) / (len(left) + len(right))\n",
    "    return current - (fraction * gini(left) + (1-fraction) * gini(right) )"
   ]
  },
  {
   "cell_type": "code",
   "execution_count": 275,
   "id": "90beaa8a-9a31-40bb-89d1-19141a0bb60b",
   "metadata": {},
   "outputs": [
    {
     "data": {
      "text/plain": [
       "0.14"
      ]
     },
     "execution_count": 275,
     "metadata": {},
     "output_type": "execute_result"
    }
   ],
   "source": [
    "info_gain(true_rows , false_rows , 0.64)"
   ]
  },
  {
   "cell_type": "code",
   "execution_count": 276,
   "id": "81fdec2f-b3ee-4291-817b-e310f9633d56",
   "metadata": {},
   "outputs": [],
   "source": [
    "def find_best_split(rows):\n",
    "    columns = len(rows[0]) - 1\n",
    "    best_question = None\n",
    "    best_gain = 0\n",
    "    \n",
    "    for col in range(columns):\n",
    "        column_values = set(rows[i][col] for i in range(len(rows)))\n",
    "        for value in column_values:\n",
    "            question = Question(col , value)\n",
    "            true_rows , false_rows = split_dataset(rows , question)\n",
    "            gain = info_gain(true_rows , false_rows , gini(rows))\n",
    "            if gain > best_gain:\n",
    "                best_gain = gain\n",
    "                best_question = question\n",
    "    return best_gain , best_question\n",
    "        "
   ]
  },
  {
   "cell_type": "code",
   "execution_count": 277,
   "id": "0a475495-8b47-471f-9d99-36b719156721",
   "metadata": {},
   "outputs": [],
   "source": [
    "gain , question = find_best_split(training_data)"
   ]
  },
  {
   "cell_type": "code",
   "execution_count": 278,
   "id": "12311fcc-26d4-440d-8f64-18fa759f15ec",
   "metadata": {},
   "outputs": [
    {
     "name": "stdout",
     "output_type": "stream",
     "text": [
      "0 Red\n"
     ]
    }
   ],
   "source": [
    "print(question.column , question.value)"
   ]
  },
  {
   "cell_type": "code",
   "execution_count": 279,
   "id": "bbdc9769-3301-42f4-acac-f2104ea36e9c",
   "metadata": {},
   "outputs": [],
   "source": [
    "class Node:\n",
    "    def __init__(self,question , left , right):\n",
    "        self.question = question\n",
    "        self.left = left\n",
    "        self.right = right"
   ]
  },
  {
   "cell_type": "code",
   "execution_count": 280,
   "id": "39300dc5-44ba-471a-a9a9-621124e92012",
   "metadata": {},
   "outputs": [],
   "source": [
    "class Leaf:\n",
    "    def __init__(self,rows):\n",
    "        self.rows = rows\n",
    "        self.prediction = Counter(rows[i][-1] for i in range(len(rows)))"
   ]
  },
  {
   "cell_type": "code",
   "execution_count": 281,
   "id": "adabd83a-dbe4-43bc-bcd3-3c22e0f86b3d",
   "metadata": {},
   "outputs": [],
   "source": [
    "def make_decision_tree(rows):\n",
    "    gain , question = find_best_split(rows)\n",
    "    if gain == 0:\n",
    "        return Leaf(rows)\n",
    "    true_rows , false_rows = split_dataset(rows,question)\n",
    "    left_tree = make_decision_tree(true_rows)\n",
    "    \n",
    "    right_tree = make_decision_tree(false_rows)\n",
    "    \n",
    "    return Node(question , left_tree , right_tree)\n",
    "    "
   ]
  },
  {
   "cell_type": "code",
   "execution_count": 323,
   "id": "0c9ced57-9804-4e2a-9860-f82f936cca96",
   "metadata": {},
   "outputs": [],
   "source": [
    "node = make_decision_tree(data)"
   ]
  },
  {
   "cell_type": "code",
   "execution_count": 324,
   "id": "b2e69abb-143f-46d3-9c01-ce11b91f7c6b",
   "metadata": {},
   "outputs": [
    {
     "name": "stdout",
     "output_type": "stream",
     "text": [
      "55 0.0\n"
     ]
    }
   ],
   "source": [
    "print(node.question.column , node.question.value)"
   ]
  },
  {
   "cell_type": "code",
   "execution_count": 325,
   "id": "8e7285db-e5ff-4dc9-9d46-1b50ed23201f",
   "metadata": {},
   "outputs": [],
   "source": [
    "def print_tree(node, spacing=\"\"):\n",
    "    \"\"\"World's most elegant tree printing function.\"\"\"\n",
    "\n",
    "    # Base case: we've reached a leaf\n",
    "    if isinstance(node, Leaf):\n",
    "        print (spacing + \"Predict\", node.prediction)\n",
    "        return\n",
    "\n",
    "    # Print the question at this node\n",
    "    print (spacing + str(node.question))\n",
    "\n",
    "    # Call this function recursively on the true branch\n",
    "    print (spacing + '--> True:')\n",
    "    print_tree(node.left, spacing + \"  \")\n",
    "\n",
    "    # Call this function recursively on the false branch\n",
    "    print (spacing + '--> False:')\n",
    "    print_tree(node.right, spacing + \"  \")"
   ]
  },
  {
   "cell_type": "code",
   "execution_count": 326,
   "id": "0ec2d5d2-5cf4-4a11-9d1d-9966c039e63f",
   "metadata": {},
   "outputs": [
    {
     "name": "stdout",
     "output_type": "stream",
     "text": [
      "Question column: 55 , value: 0.0\n",
      "--> True:\n",
      "  Question column: 62 , value: 16.0\n",
      "  --> True:\n",
      "    Question column: 52 , value: 16.0\n",
      "    --> True:\n",
      "      Question column: 11 , value: 13.0\n",
      "      --> True:\n",
      "        Predict Counter({9.0: 2})\n",
      "      --> False:\n",
      "        Question column: 26 , value: 0.0\n",
      "        --> True:\n",
      "          Question column: 4 , value: 15.0\n",
      "          --> True:\n",
      "            Predict Counter({8.0: 1})\n",
      "          --> False:\n",
      "            Predict Counter({7.0: 2})\n",
      "        --> False:\n",
      "          Predict Counter({5.0: 2})\n",
      "    --> False:\n",
      "      Question column: 27 , value: 0.0\n",
      "      --> True:\n",
      "        Predict Counter({6.0: 3})\n",
      "      --> False:\n",
      "        Question column: 2 , value: 11.0\n",
      "        --> True:\n",
      "          Question column: 4 , value: 7.0\n",
      "          --> True:\n",
      "            Predict Counter({6.0: 1})\n",
      "          --> False:\n",
      "            Predict Counter({1.0: 3})\n",
      "        --> False:\n",
      "          Question column: 25 , value: 0.0\n",
      "          --> True:\n",
      "            Question column: 12 , value: 16.0\n",
      "            --> True:\n",
      "              Predict Counter({2.0: 2})\n",
      "            --> False:\n",
      "              Predict Counter({0.0: 3})\n",
      "          --> False:\n",
      "            Predict Counter({3.0: 3})\n",
      "  --> False:\n",
      "    Question column: 62 , value: 15.0\n",
      "    --> True:\n",
      "      Question column: 2 , value: 3.0\n",
      "      --> True:\n",
      "        Predict Counter({5.0: 1})\n",
      "      --> False:\n",
      "        Question column: 3 , value: 16.0\n",
      "        --> True:\n",
      "          Predict Counter({0.0: 2})\n",
      "        --> False:\n",
      "          Question column: 3 , value: 6.0\n",
      "          --> True:\n",
      "            Predict Counter({0.0: 1})\n",
      "          --> False:\n",
      "            Predict Counter({2.0: 2})\n",
      "    --> False:\n",
      "      Question column: 62 , value: 14.0\n",
      "      --> True:\n",
      "        Question column: 44 , value: 15.0\n",
      "        --> True:\n",
      "          Question column: 3 , value: 16.0\n",
      "          --> True:\n",
      "            Predict Counter({7.0: 1})\n",
      "          --> False:\n",
      "            Predict Counter({1.0: 1})\n",
      "        --> False:\n",
      "          Predict Counter({0.0: 4})\n",
      "      --> False:\n",
      "        Question column: 62 , value: 13.0\n",
      "        --> True:\n",
      "          Question column: 2 , value: 8.0\n",
      "          --> True:\n",
      "            Predict Counter({1.0: 1})\n",
      "          --> False:\n",
      "            Predict Counter({0.0: 5})\n",
      "        --> False:\n",
      "          Question column: 54 , value: 15.0\n",
      "          --> True:\n",
      "            Question column: 35 , value: 0.0\n",
      "            --> True:\n",
      "              Question column: 2 , value: 9.0\n",
      "              --> True:\n",
      "                Predict Counter({0.0: 1})\n",
      "              --> False:\n",
      "                Predict Counter({1.0: 2})\n",
      "            --> False:\n",
      "              Predict Counter({0.0: 23})\n",
      "          --> False:\n",
      "            Question column: 62 , value: 8.0\n",
      "            --> True:\n",
      "              Question column: 4 , value: 14.0\n",
      "              --> True:\n",
      "                Predict Counter({1.0: 1})\n",
      "              --> False:\n",
      "                Predict Counter({0.0: 16})\n",
      "            --> False:\n",
      "              Predict Counter({0.0: 1598})\n",
      "--> False:\n",
      "  Question column: 46 , value: 0.0\n",
      "  --> True:\n",
      "    Question column: 42 , value: 0.0\n",
      "    --> True:\n",
      "      Question column: 58 , value: 4.0\n",
      "      --> True:\n",
      "        Question column: 2 , value: 2.0\n",
      "        --> True:\n",
      "          Predict Counter({4.0: 1})\n",
      "        --> False:\n",
      "          Predict Counter({16.0: 3})\n",
      "      --> False:\n",
      "        Question column: 18 , value: 13.0\n",
      "        --> True:\n",
      "          Predict Counter({4.0: 2})\n",
      "        --> False:\n",
      "          Question column: 27 , value: 5.0\n",
      "          --> True:\n",
      "            Predict Counter({7.0: 2})\n",
      "          --> False:\n",
      "            Question column: 20 , value: 4.0\n",
      "            --> True:\n",
      "              Predict Counter({10.0: 2})\n",
      "            --> False:\n",
      "              Question column: 2 , value: 2.0\n",
      "              --> True:\n",
      "                Predict Counter({8.0: 2})\n",
      "              --> False:\n",
      "                Question column: 20 , value: 15.0\n",
      "                --> True:\n",
      "                  Predict Counter({11.0: 2})\n",
      "                --> False:\n",
      "                  Question column: 61 , value: 16.0\n",
      "                  --> True:\n",
      "                    Question column: 36 , value: 14.0\n",
      "                    --> True:\n",
      "                      Question column: 2 , value: 10.0\n",
      "                      --> True:\n",
      "                        Predict Counter({14.0: 1})\n",
      "                      --> False:\n",
      "                        Predict Counter({5.0: 3})\n",
      "                    --> False:\n",
      "                      Question column: 28 , value: 9.0\n",
      "                      --> True:\n",
      "                        Predict Counter({13.0: 2})\n",
      "                      --> False:\n",
      "                        Question column: 51 , value: 16.0\n",
      "                        --> True:\n",
      "                          Question column: 5 , value: 0.0\n",
      "                          --> True:\n",
      "                            Question column: 4 , value: 9.0\n",
      "                            --> True:\n",
      "                              Question column: 1 , value: 0.0\n",
      "                              --> True:\n",
      "                                Predict Counter({14.0: 1})\n",
      "                              --> False:\n",
      "                                Predict Counter({3.0: 1})\n",
      "                            --> False:\n",
      "                              Predict Counter({5.0: 2})\n",
      "                          --> False:\n",
      "                            Question column: 2 , value: 8.0\n",
      "                            --> True:\n",
      "                              Predict Counter({1.0: 1})\n",
      "                            --> False:\n",
      "                              Predict Counter({9.0: 1})\n",
      "                        --> False:\n",
      "                          Question column: 51 , value: 12.0\n",
      "                          --> True:\n",
      "                            Question column: 9 , value: 0.0\n",
      "                            --> True:\n",
      "                              Question column: 2 , value: 4.0\n",
      "                              --> True:\n",
      "                                Predict Counter({8.0: 1})\n",
      "                              --> False:\n",
      "                                Predict Counter({15.0: 1})\n",
      "                            --> False:\n",
      "                              Predict Counter({9.0: 1})\n",
      "                          --> False:\n",
      "                            Question column: 2 , value: 10.0\n",
      "                            --> True:\n",
      "                              Predict Counter({10.0: 1})\n",
      "                            --> False:\n",
      "                              Predict Counter({12.0: 4})\n",
      "                  --> False:\n",
      "                    Question column: 55 , value: 1.0\n",
      "                    --> True:\n",
      "                      Question column: 1 , value: 0.0\n",
      "                      --> True:\n",
      "                        Question column: 2 , value: 10.0\n",
      "                        --> True:\n",
      "                          Predict Counter({8.0: 1})\n",
      "                        --> False:\n",
      "                          Predict Counter({12.0: 1})\n",
      "                      --> False:\n",
      "                        Predict Counter({1.0: 1})\n",
      "                    --> False:\n",
      "                      Predict Counter({15.0: 4})\n",
      "    --> False:\n",
      "      Question column: 61 , value: 16.0\n",
      "      --> True:\n",
      "        Question column: 3 , value: 16.0\n",
      "        --> True:\n",
      "          Question column: 2 , value: 11.0\n",
      "          --> True:\n",
      "            Predict Counter({6.0: 1})\n",
      "          --> False:\n",
      "            Predict Counter({3.0: 3})\n",
      "        --> False:\n",
      "          Question column: 26 , value: 12.0\n",
      "          --> True:\n",
      "            Predict Counter({11.0: 2})\n",
      "          --> False:\n",
      "            Question column: 55 , value: 3.0\n",
      "            --> True:\n",
      "              Question column: 2 , value: 10.0\n",
      "              --> True:\n",
      "                Predict Counter({9.0: 1})\n",
      "              --> False:\n",
      "                Predict Counter({1.0: 1})\n",
      "            --> False:\n",
      "              Predict Counter({2.0: 2})\n",
      "      --> False:\n",
      "        Question column: 5 , value: 0.0\n",
      "        --> True:\n",
      "          Predict Counter({1.0: 5})\n",
      "        --> False:\n",
      "          Question column: 50 , value: 16.0\n",
      "          --> True:\n",
      "            Question column: 1 , value: 0.0\n",
      "            --> True:\n",
      "              Predict Counter({3.0: 1})\n",
      "            --> False:\n",
      "              Predict Counter({1.0: 1})\n",
      "          --> False:\n",
      "            Predict Counter({0.0: 3})\n",
      "  --> False:\n",
      "    Question column: 60 , value: 11.0\n",
      "    --> True:\n",
      "      Predict Counter({2.0: 3})\n",
      "    --> False:\n",
      "      Question column: 62 , value: 16.0\n",
      "      --> True:\n",
      "        Question column: 10 , value: 0.0\n",
      "        --> True:\n",
      "          Predict Counter({16.0: 2})\n",
      "        --> False:\n",
      "          Question column: 1 , value: 0.0\n",
      "          --> True:\n",
      "            Question column: 2 , value: 0.0\n",
      "            --> True:\n",
      "              Predict Counter({6.0: 1})\n",
      "            --> False:\n",
      "              Predict Counter({8.0: 1})\n",
      "          --> False:\n",
      "            Predict Counter({11.0: 1})\n",
      "      --> False:\n",
      "        Question column: 44 , value: 13.0\n",
      "        --> True:\n",
      "          Predict Counter({1.0: 3})\n",
      "        --> False:\n",
      "          Question column: 53 , value: 7.0\n",
      "          --> True:\n",
      "            Predict Counter({1.0: 3})\n",
      "          --> False:\n",
      "            Question column: 58 , value: 5.0\n",
      "            --> True:\n",
      "              Predict Counter({1.0: 2})\n",
      "            --> False:\n",
      "              Question column: 62 , value: 13.0\n",
      "              --> True:\n",
      "                Question column: 34 , value: 0.0\n",
      "                --> True:\n",
      "                  Question column: 5 , value: 0.0\n",
      "                  --> True:\n",
      "                    Question column: 2 , value: 2.0\n",
      "                    --> True:\n",
      "                      Predict Counter({2.0: 1})\n",
      "                    --> False:\n",
      "                      Predict Counter({6.0: 1})\n",
      "                  --> False:\n",
      "                    Predict Counter({3.0: 2})\n",
      "                --> False:\n",
      "                  Predict Counter({0.0: 2})\n",
      "              --> False:\n",
      "                Question column: 10 , value: 7.0\n",
      "                --> True:\n",
      "                  Question column: 3 , value: 10.0\n",
      "                  --> True:\n",
      "                    Predict Counter({0.0: 1})\n",
      "                  --> False:\n",
      "                    Predict Counter({1.0: 2})\n",
      "                --> False:\n",
      "                  Question column: 18 , value: 14.0\n",
      "                  --> True:\n",
      "                    Predict Counter({1.0: 1})\n",
      "                  --> False:\n",
      "                    Question column: 27 , value: 11.0\n",
      "                    --> True:\n",
      "                      Predict Counter({1.0: 1})\n",
      "                    --> False:\n",
      "                      Predict Counter({0.0: 28})\n"
     ]
    }
   ],
   "source": [
    "print_tree(node)"
   ]
  },
  {
   "cell_type": "code",
   "execution_count": null,
   "id": "70ab60e5-f7b5-4266-9cab-10c4fb834231",
   "metadata": {},
   "outputs": [],
   "source": []
  }
 ],
 "metadata": {
  "kernelspec": {
   "display_name": "Python 3 (ipykernel)",
   "language": "python",
   "name": "python3"
  },
  "language_info": {
   "codemirror_mode": {
    "name": "ipython",
    "version": 3
   },
   "file_extension": ".py",
   "mimetype": "text/x-python",
   "name": "python",
   "nbconvert_exporter": "python",
   "pygments_lexer": "ipython3",
   "version": "3.9.7"
  }
 },
 "nbformat": 4,
 "nbformat_minor": 5
}
