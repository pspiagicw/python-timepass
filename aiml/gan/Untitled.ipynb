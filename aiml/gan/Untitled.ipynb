{
 "cells": [
  {
   "cell_type": "code",
   "execution_count": 1,
   "id": "fb155bd5-dfbf-4a35-ab95-816c6ff993ac",
   "metadata": {},
   "outputs": [],
   "source": [
    "from tensorflow import keras\n",
    "from tensorflow.keras import layers\n",
    "import numpy as np"
   ]
  },
  {
   "cell_type": "code",
   "execution_count": 2,
   "id": "5d4ea225-a781-4fcc-a528-4350abc167ad",
   "metadata": {},
   "outputs": [],
   "source": [
    "latent_dim = 32\n",
    "height = 32\n",
    "width = 32\n",
    "channels = 3"
   ]
  },
  {
   "cell_type": "code",
   "execution_count": 3,
   "id": "061d54f6-7266-4b3b-9db1-e15ebaf92e23",
   "metadata": {},
   "outputs": [],
   "source": [
    "generator_input = keras.Input(shape=(latent_dim))"
   ]
  },
  {
   "cell_type": "code",
   "execution_count": 4,
   "id": "47c4b6e6-a844-4140-a059-91392d9e22fe",
   "metadata": {},
   "outputs": [],
   "source": [
    "x = layers.Dense(128 * 16 * 16)(generator_input)"
   ]
  },
  {
   "cell_type": "code",
   "execution_count": 5,
   "id": "1dad383f-2572-469a-a045-839e850840ca",
   "metadata": {},
   "outputs": [],
   "source": [
    "x = layers.LeakyReLU()(x)"
   ]
  },
  {
   "cell_type": "code",
   "execution_count": 6,
   "id": "a1a1c9d1-4645-418b-9873-35ad82b38b53",
   "metadata": {},
   "outputs": [],
   "source": [
    "x = layers.Reshape((16 , 16 , 128))(x)"
   ]
  },
  {
   "cell_type": "code",
   "execution_count": 8,
   "id": "6d768279-5e28-4071-bdb9-b93b4b5bb50e",
   "metadata": {},
   "outputs": [],
   "source": [
    "x = layers.Conv2D(256 , 5 , padding='same')(x)"
   ]
  },
  {
   "cell_type": "code",
   "execution_count": 10,
   "id": "bc555af1-9226-41b8-99ba-a59f576e6ce5",
   "metadata": {},
   "outputs": [],
   "source": [
    "x = layers.LeakyReLU()(x)"
   ]
  },
  {
   "cell_type": "code",
   "execution_count": 11,
   "id": "4e461043-dc19-485e-9b82-dac7185bfa39",
   "metadata": {},
   "outputs": [],
   "source": [
    "x = layers.Conv2DTranspose(256 , 4 , strides = 2, padding='same')(x)"
   ]
  },
  {
   "cell_type": "code",
   "execution_count": 12,
   "id": "374f47c3-c54f-49ce-ad8f-2d0f5d1eb376",
   "metadata": {},
   "outputs": [],
   "source": [
    "x = layers.LeakyReLU()(x)"
   ]
  },
  {
   "cell_type": "code",
   "execution_count": 13,
   "id": "754c8c7c-d56d-49f8-b171-11ee87b6ee90",
   "metadata": {},
   "outputs": [],
   "source": [
    "x = layers.Conv2D(256 , 5, padding='same')(x)"
   ]
  },
  {
   "cell_type": "code",
   "execution_count": 14,
   "id": "5311986b-34b8-441d-b391-e069ff55fc6b",
   "metadata": {},
   "outputs": [],
   "source": [
    "x = layers.LeakyReLU()(x)"
   ]
  },
  {
   "cell_type": "code",
   "execution_count": 15,
   "id": "1a37cac9-8de5-41ea-a305-3335028c8444",
   "metadata": {},
   "outputs": [],
   "source": [
    "x = layers.Conv2D(256 , 5 , padding='same')(x)"
   ]
  },
  {
   "cell_type": "code",
   "execution_count": 17,
   "id": "a625444d-b047-4d63-b741-2a71763456d4",
   "metadata": {},
   "outputs": [],
   "source": [
    "x = layers.LeakyReLU()(x)"
   ]
  },
  {
   "cell_type": "code",
   "execution_count": 18,
   "id": "2d5e75e6-c9c6-4a54-9bba-85ef2cbf1b89",
   "metadata": {},
   "outputs": [],
   "source": [
    "x = layers.Conv2D(channels , 7 , activation='tanh' , padding='same')(x)"
   ]
  },
  {
   "cell_type": "code",
   "execution_count": 19,
   "id": "e2c688ed-6e29-422e-b70f-15389e0ac26a",
   "metadata": {},
   "outputs": [],
   "source": [
    "generator = keras.models.Model(generator_input , x)"
   ]
  },
  {
   "cell_type": "code",
   "execution_count": 20,
   "id": "76912e94-3f75-4f43-a499-36e47ea7be74",
   "metadata": {},
   "outputs": [
    {
     "name": "stdout",
     "output_type": "stream",
     "text": [
      "Model: \"model\"\n",
      "_________________________________________________________________\n",
      "Layer (type)                 Output Shape              Param #   \n",
      "=================================================================\n",
      "input_1 (InputLayer)         [(None, 32)]              0         \n",
      "_________________________________________________________________\n",
      "dense (Dense)                (None, 32768)             1081344   \n",
      "_________________________________________________________________\n",
      "leaky_re_lu (LeakyReLU)      (None, 32768)             0         \n",
      "_________________________________________________________________\n",
      "reshape (Reshape)            (None, 16, 16, 128)       0         \n",
      "_________________________________________________________________\n",
      "conv2d (Conv2D)              (None, 16, 16, 256)       819456    \n",
      "_________________________________________________________________\n",
      "leaky_re_lu_1 (LeakyReLU)    (None, 16, 16, 256)       0         \n",
      "_________________________________________________________________\n",
      "conv2d_transpose (Conv2DTran (None, 32, 32, 256)       1048832   \n",
      "_________________________________________________________________\n",
      "leaky_re_lu_2 (LeakyReLU)    (None, 32, 32, 256)       0         \n",
      "_________________________________________________________________\n",
      "conv2d_1 (Conv2D)            (None, 32, 32, 256)       1638656   \n",
      "_________________________________________________________________\n",
      "leaky_re_lu_3 (LeakyReLU)    (None, 32, 32, 256)       0         \n",
      "_________________________________________________________________\n",
      "conv2d_2 (Conv2D)            (None, 32, 32, 256)       1638656   \n",
      "_________________________________________________________________\n",
      "leaky_re_lu_4 (LeakyReLU)    (None, 32, 32, 256)       0         \n",
      "_________________________________________________________________\n",
      "conv2d_3 (Conv2D)            (None, 32, 32, 3)         37635     \n",
      "=================================================================\n",
      "Total params: 6,264,579\n",
      "Trainable params: 6,264,579\n",
      "Non-trainable params: 0\n",
      "_________________________________________________________________\n"
     ]
    }
   ],
   "source": [
    "generator.summary()"
   ]
  },
  {
   "cell_type": "code",
   "execution_count": 21,
   "id": "0a3f0688-5398-493f-bb8a-26dfcb640632",
   "metadata": {},
   "outputs": [],
   "source": [
    "discriminator_input = layers.Input(shape=(height , width , channels))"
   ]
  },
  {
   "cell_type": "code",
   "execution_count": 22,
   "id": "a100af20-c0d3-4359-a57c-a55d6306d2e4",
   "metadata": {},
   "outputs": [],
   "source": [
    "x = layers.Conv2D(128 , 3)(discriminator_input)"
   ]
  },
  {
   "cell_type": "code",
   "execution_count": 23,
   "id": "6ace37f6-24d1-4c7d-bae4-011f7787b89d",
   "metadata": {},
   "outputs": [],
   "source": [
    "x = layers.LeakyReLU()(x)"
   ]
  },
  {
   "cell_type": "code",
   "execution_count": 24,
   "id": "bcfbcce2-1cca-4302-bd58-9a7dbc140bd7",
   "metadata": {},
   "outputs": [],
   "source": [
    "x = layers.Conv2D(128 , 4 , strides=2)(x)"
   ]
  },
  {
   "cell_type": "code",
   "execution_count": 26,
   "id": "bbff2952-2ab8-475a-b1d1-dd404eb1db65",
   "metadata": {},
   "outputs": [],
   "source": [
    "x = layers.LeakyReLU()(x)"
   ]
  },
  {
   "cell_type": "code",
   "execution_count": 27,
   "id": "2c7a21af-8687-4cda-8404-6340d24fcc27",
   "metadata": {},
   "outputs": [],
   "source": [
    "x = layers.Conv2D(128 , 4 , strides=2)(x)"
   ]
  },
  {
   "cell_type": "code",
   "execution_count": 28,
   "id": "82b80fd9-c4a5-4abe-9c74-7ef22be389e3",
   "metadata": {},
   "outputs": [],
   "source": [
    "x = layers.LeakyReLU()(x)"
   ]
  },
  {
   "cell_type": "code",
   "execution_count": 29,
   "id": "85b83858-31a2-41bc-b728-890f17976ed4",
   "metadata": {},
   "outputs": [],
   "source": [
    "x = layers.Flatten()(x)"
   ]
  },
  {
   "cell_type": "code",
   "execution_count": 30,
   "id": "dbbe7571-a07b-485f-9f9e-6c0f78ecb231",
   "metadata": {},
   "outputs": [],
   "source": [
    "x = layers.Dropout(0.4)(x)"
   ]
  },
  {
   "cell_type": "code",
   "execution_count": 31,
   "id": "86b260e7-64a3-4ee1-96eb-4a82bfa0482a",
   "metadata": {},
   "outputs": [],
   "source": [
    "x = layers.Dense(1 , activation='sigmoid')(x)"
   ]
  },
  {
   "cell_type": "code",
   "execution_count": 33,
   "id": "a1ce3fcf-bc65-4f07-9fbe-e38051510513",
   "metadata": {},
   "outputs": [
    {
     "name": "stdout",
     "output_type": "stream",
     "text": [
      "Model: \"model_1\"\n",
      "_________________________________________________________________\n",
      "Layer (type)                 Output Shape              Param #   \n",
      "=================================================================\n",
      "input_2 (InputLayer)         [(None, 32, 32, 3)]       0         \n",
      "_________________________________________________________________\n",
      "conv2d_4 (Conv2D)            (None, 30, 30, 128)       3584      \n",
      "_________________________________________________________________\n",
      "leaky_re_lu_5 (LeakyReLU)    (None, 30, 30, 128)       0         \n",
      "_________________________________________________________________\n",
      "conv2d_5 (Conv2D)            (None, 14, 14, 128)       262272    \n",
      "_________________________________________________________________\n",
      "leaky_re_lu_6 (LeakyReLU)    (None, 14, 14, 128)       0         \n",
      "_________________________________________________________________\n",
      "conv2d_6 (Conv2D)            (None, 6, 6, 128)         262272    \n",
      "_________________________________________________________________\n",
      "leaky_re_lu_7 (LeakyReLU)    (None, 6, 6, 128)         0         \n",
      "_________________________________________________________________\n",
      "flatten (Flatten)            (None, 4608)              0         \n",
      "_________________________________________________________________\n",
      "dropout (Dropout)            (None, 4608)              0         \n",
      "_________________________________________________________________\n",
      "dense_1 (Dense)              (None, 1)                 4609      \n",
      "=================================================================\n",
      "Total params: 532,737\n",
      "Trainable params: 532,737\n",
      "Non-trainable params: 0\n",
      "_________________________________________________________________\n"
     ]
    }
   ],
   "source": [
    "discriminator = keras.models.Model(discriminator_input , x)\n",
    "discriminator.summary()"
   ]
  },
  {
   "cell_type": "code",
   "execution_count": 35,
   "id": "205faa46-c049-41b9-aa05-63f7608063f2",
   "metadata": {},
   "outputs": [],
   "source": [
    "discriminator_optimizer = keras.optimizers.RMSprop(\n",
    " learning_rate = 0.0008,\n",
    " clipvalue=1.0,\n",
    " decay=1e-8\n",
    ")"
   ]
  },
  {
   "cell_type": "code",
   "execution_count": 36,
   "id": "07a2c861-d72f-4b25-89ad-6d450d1aaf89",
   "metadata": {},
   "outputs": [],
   "source": [
    "discriminator.compile(optimizer=discriminator_optimizer , loss='binary_crossentropy')"
   ]
  },
  {
   "cell_type": "code",
   "execution_count": 37,
   "id": "2d282092-dca7-46ff-a49e-b5453e718a2c",
   "metadata": {},
   "outputs": [],
   "source": [
    "discriminator.trainable = False"
   ]
  },
  {
   "cell_type": "code",
   "execution_count": 38,
   "id": "bffda1ad-1847-4803-ad95-8ccd007f22bb",
   "metadata": {},
   "outputs": [],
   "source": [
    "gan_input = keras.Input(shape=(latent_dim,))"
   ]
  },
  {
   "cell_type": "code",
   "execution_count": 40,
   "id": "dc0a5797-9505-4ee4-9a96-596a8c625c99",
   "metadata": {},
   "outputs": [],
   "source": [
    "gan_output = discriminator(generator(gan_input))"
   ]
  },
  {
   "cell_type": "code",
   "execution_count": 41,
   "id": "e3a1a79b-ac26-4d60-bf2d-566caed5b26c",
   "metadata": {},
   "outputs": [],
   "source": [
    "gan = keras.models.Model(gan_input , gan_output)"
   ]
  },
  {
   "cell_type": "code",
   "execution_count": 43,
   "id": "68bbb7bc-29d0-4455-a212-3a4351e7ee64",
   "metadata": {},
   "outputs": [],
   "source": [
    "gan_optimizer = keras.optimizers.RMSprop(learning_rate=0.0004 , clipvalue=1.0 , decay=1e-8)"
   ]
  },
  {
   "cell_type": "code",
   "execution_count": 44,
   "id": "46776eb8-45e4-4daa-a312-198867db4e44",
   "metadata": {},
   "outputs": [],
   "source": [
    "gan.compile(optimizer=gan_optimizer , loss='binary_crossentropy')"
   ]
  },
  {
   "cell_type": "code",
   "execution_count": 45,
   "id": "89823917-1fff-407e-9213-6a774aa7dc17",
   "metadata": {},
   "outputs": [],
   "source": [
    "import os\n",
    "from tensorflow.keras.preprocessing import image"
   ]
  },
  {
   "cell_type": "code",
   "execution_count": 47,
   "id": "21130806-57a4-4f5e-ad2e-0231e6bfe82e",
   "metadata": {},
   "outputs": [
    {
     "name": "stdout",
     "output_type": "stream",
     "text": [
      "Downloading data from https://www.cs.toronto.edu/~kriz/cifar-10-python.tar.gz\n",
      "170500096/170498071 [==============================] - 207s 1us/step\n",
      "170508288/170498071 [==============================] - 207s 1us/step\n"
     ]
    }
   ],
   "source": [
    "(train_x , train_y) , (test_x , test_y) = keras.datasets.cifar10.load_data()"
   ]
  },
  {
   "cell_type": "code",
   "execution_count": 48,
   "id": "a4aec26f-882a-45eb-80c9-98a28417cf06",
   "metadata": {},
   "outputs": [],
   "source": [
    "train_x = train_x[train_y.flatten() == 6]"
   ]
  },
  {
   "cell_type": "code",
   "execution_count": 50,
   "id": "1fdf0574-fde6-4ef4-9084-a9b5e6b17a38",
   "metadata": {},
   "outputs": [],
   "source": [
    "train_x = train_x.reshape(\n",
    "(train_x.shape[0],) + (height , width , channels)).astype('float32') / 255"
   ]
  },
  {
   "cell_type": "code",
   "execution_count": 51,
   "id": "75023b84-cfb6-4a49-b805-664d6225aa40",
   "metadata": {},
   "outputs": [],
   "source": [
    "iterations = 10000"
   ]
  },
  {
   "cell_type": "code",
   "execution_count": 58,
   "id": "1dda32bf-b50b-482f-b679-2cd96e52e98f",
   "metadata": {},
   "outputs": [],
   "source": [
    "import cv2"
   ]
  },
  {
   "cell_type": "code",
   "execution_count": 52,
   "id": "cf183b98-c777-4239-8f5f-82be8005a66e",
   "metadata": {},
   "outputs": [],
   "source": [
    "batch_size = 24"
   ]
  },
  {
   "cell_type": "code",
   "execution_count": 53,
   "id": "7651606e-dea9-41fc-ad3e-ae27855027ef",
   "metadata": {},
   "outputs": [],
   "source": [
    "save_dir='saved_image'"
   ]
  },
  {
   "cell_type": "code",
   "execution_count": null,
   "id": "4680dcd7-e178-416f-a811-a90985350c9f",
   "metadata": {},
   "outputs": [
    {
     "name": "stdout",
     "output_type": "stream",
     "text": [
      "discriminator loss 0.6715965270996094\n",
      "adversarial loss 0.6390770673751831\n",
      "discriminator loss 0.6957468390464783\n",
      "adversarial loss 0.7342211604118347\n",
      "discriminator loss 0.6951553225517273\n",
      "adversarial loss 0.765250027179718\n",
      "discriminator loss 0.6921150088310242\n",
      "adversarial loss 0.7447593808174133\n",
      "discriminator loss 0.6863070130348206\n",
      "adversarial loss 0.7658658027648926\n",
      "discriminator loss 0.6951813697814941\n",
      "adversarial loss 0.7464286684989929\n",
      "discriminator loss 0.6905404925346375\n",
      "adversarial loss 0.8428745269775391\n",
      "discriminator loss 0.6919412016868591\n",
      "adversarial loss 0.7450456023216248\n",
      "discriminator loss 0.6960576176643372\n",
      "adversarial loss 0.7019002437591553\n",
      "discriminator loss 0.6923804879188538\n",
      "adversarial loss 0.7590726017951965\n",
      "discriminator loss 0.6958054900169373\n",
      "adversarial loss 0.7743330597877502\n",
      "discriminator loss 0.6969180107116699\n",
      "adversarial loss 1.01005220413208\n",
      "discriminator loss 0.7406126856803894\n",
      "adversarial loss 0.7019723057746887\n",
      "discriminator loss 0.7055750489234924\n",
      "adversarial loss 0.7426791191101074\n",
      "discriminator loss 0.7136225700378418\n",
      "adversarial loss 0.8316999077796936\n",
      "discriminator loss 0.6997661590576172\n",
      "adversarial loss 0.7672600746154785\n",
      "discriminator loss 0.6958935856819153\n",
      "adversarial loss 0.7830915451049805\n",
      "discriminator loss 0.6962413787841797\n",
      "adversarial loss 0.6896628737449646\n",
      "discriminator loss 0.7016952633857727\n",
      "adversarial loss 0.7379423975944519\n",
      "discriminator loss 0.7140643000602722\n",
      "adversarial loss 0.8061245083808899\n",
      "discriminator loss 0.6996247172355652\n",
      "adversarial loss 0.820406436920166\n",
      "discriminator loss 0.6973761916160583\n",
      "adversarial loss 0.7302660346031189\n",
      "discriminator loss 0.6871115565299988\n",
      "adversarial loss 0.7320704460144043\n",
      "discriminator loss 0.7148916125297546\n",
      "adversarial loss 0.7904267907142639\n",
      "discriminator loss 0.693391740322113\n",
      "adversarial loss 0.7505314946174622\n",
      "discriminator loss 0.7243320345878601\n",
      "adversarial loss 0.744328498840332\n",
      "discriminator loss 0.6854106783866882\n",
      "adversarial loss 0.7498952746391296\n",
      "discriminator loss 0.6924425959587097\n",
      "adversarial loss 0.7368922829627991\n",
      "discriminator loss 0.6906831860542297\n",
      "adversarial loss 0.8107784390449524\n",
      "discriminator loss 0.7016313076019287\n",
      "adversarial loss 0.7258990406990051\n",
      "discriminator loss 0.6980671882629395\n",
      "adversarial loss 0.7387504577636719\n",
      "discriminator loss 0.6907505989074707\n",
      "adversarial loss 0.7919977307319641\n",
      "discriminator loss 0.7037860751152039\n",
      "adversarial loss 0.7175424098968506\n",
      "discriminator loss 0.6895668506622314\n",
      "adversarial loss 0.7331438064575195\n",
      "discriminator loss 0.6877424120903015\n",
      "adversarial loss 0.74787837266922\n",
      "discriminator loss 0.7106725573539734\n",
      "adversarial loss 0.7192225456237793\n",
      "discriminator loss 0.7150333523750305\n",
      "adversarial loss 0.7783729434013367\n",
      "discriminator loss 0.696005642414093\n",
      "adversarial loss 0.7823903560638428\n",
      "discriminator loss 0.6843819618225098\n",
      "adversarial loss 0.7820112705230713\n",
      "discriminator loss 0.7010309100151062\n",
      "adversarial loss 0.7992234826087952\n",
      "discriminator loss 0.7070605158805847\n",
      "adversarial loss 0.8364139199256897\n",
      "discriminator loss 0.6825103163719177\n",
      "adversarial loss 0.7593404650688171\n"
     ]
    }
   ],
   "source": [
    "start = 0\n",
    "for step in range(iterations):\n",
    "    random_latent_vectors = np.random.normal(size=(batch_size,latent_dim))\n",
    "    generated_images = generator.predict(random_latent_vectors)\n",
    "    stop = start + batch_size\n",
    "    real_images = train_x[start:stop]\n",
    "    combined_images = np.concatenate([generated_images , real_images])\n",
    "    \n",
    "    labels = np.concatenate([np.ones((batch_size , 1)),\n",
    "                            np.zeros((batch_size , 1))])\n",
    "    labels += 0.05 * np.random.random(labels.shape)\n",
    "    \n",
    "    d_loss = discriminator.train_on_batch(combined_images , labels)\n",
    "    \n",
    "    random_latent_vectors = np.random.normal(size=(batch_size,latent_dim))\n",
    "    \n",
    "    misleading_targets = np.zeros((batch_size,1))\n",
    "    \n",
    "    a_loss = gan.train_on_batch(random_latent_vectors,misleading_targets)\n",
    "    \n",
    "    start += batch_size\n",
    "    if start > len(train_x) - batch_size:\n",
    "        start = 0\n",
    "        \n",
    "    if step % 100 == 0:\n",
    "        gan.save_weights('gan.h5')\n",
    "        print('discriminator loss' , d_loss)\n",
    "        print('adversarial loss' , a_loss)\n",
    "        \n",
    "        img = generated_images[0] * 255\n",
    "        #img.save(os.path.join(save_dir,'generated_frog' + str(step) + '.png'))\n",
    "        cv2.imwrite(os.path.join(save_dir , 'generated_frog' + str(step) + '.png') , img)\n",
    "        \n",
    "        \n",
    "        \n",
    "        img = real_images[0] * 255\n",
    "        cv2.imwrite(os.path.join(save_dir , 'real_frog' + str(step) + '.png') , img)\n",
    "\n",
    "        \n",
    "        #img.save(os.path.join(save_dir ,'real_frog' + str(step) + '.png'))"
   ]
  },
  {
   "cell_type": "code",
   "execution_count": null,
   "id": "e269bc8e-b9e9-410d-a130-53ce707f46fd",
   "metadata": {},
   "outputs": [],
   "source": []
  }
 ],
 "metadata": {
  "kernelspec": {
   "display_name": "Python 3",
   "language": "python",
   "name": "python3"
  },
  "language_info": {
   "codemirror_mode": {
    "name": "ipython",
    "version": 3
   },
   "file_extension": ".py",
   "mimetype": "text/x-python",
   "name": "python",
   "nbconvert_exporter": "python",
   "pygments_lexer": "ipython3",
   "version": "3.8.10"
  }
 },
 "nbformat": 4,
 "nbformat_minor": 5
}
