{
 "cells": [
  {
   "cell_type": "code",
   "execution_count": 1,
   "id": "c68ddf7b-ad97-4fe2-b78a-e686cf7f4ca6",
   "metadata": {},
   "outputs": [],
   "source": [
    "from tensorflow import keras"
   ]
  },
  {
   "cell_type": "code",
   "execution_count": 2,
   "id": "ad4b9122-c186-43c4-a549-efc4d704f07f",
   "metadata": {},
   "outputs": [],
   "source": [
    "from keras import layers"
   ]
  },
  {
   "cell_type": "code",
   "execution_count": 3,
   "id": "169ef259-8338-4da1-b157-51fa82d507d4",
   "metadata": {},
   "outputs": [],
   "source": [
    "from keras import backend as K"
   ]
  },
  {
   "cell_type": "code",
   "execution_count": 4,
   "id": "beb88916-133e-4587-b1c2-2e967adb972b",
   "metadata": {},
   "outputs": [],
   "source": [
    "from keras.models import Model"
   ]
  },
  {
   "cell_type": "code",
   "execution_count": 5,
   "id": "bfc80dc9-2383-48ab-86a6-d0dae70a8d40",
   "metadata": {},
   "outputs": [],
   "source": [
    "import numpy as np"
   ]
  },
  {
   "cell_type": "code",
   "execution_count": 6,
   "id": "406ca84b-b16c-46a7-a923-849139879b38",
   "metadata": {},
   "outputs": [],
   "source": [
    "\n",
    "img_shape = (28 , 28 , 1)"
   ]
  },
  {
   "cell_type": "code",
   "execution_count": 7,
   "id": "64f7ddbb-a8ca-4016-a3d7-2cc2a1f6f00f",
   "metadata": {},
   "outputs": [],
   "source": [
    "batch_size = 16"
   ]
  },
  {
   "cell_type": "code",
   "execution_count": 8,
   "id": "02278056-ec0d-436c-8b3b-94a9e1914c3c",
   "metadata": {},
   "outputs": [],
   "source": [
    "latent_dim = 2"
   ]
  },
  {
   "cell_type": "code",
   "execution_count": 9,
   "id": "db9b6b39-84f8-4d32-9092-df6d1eafe5fd",
   "metadata": {},
   "outputs": [],
   "source": [
    "\n",
    "input_img = keras.Input(shape=img_shape)"
   ]
  },
  {
   "cell_type": "code",
   "execution_count": 11,
   "id": "104368d7-d7cf-4cb0-9cdf-cd8833dfa688",
   "metadata": {},
   "outputs": [],
   "source": [
    "x = layers.Conv2D(32 , 3 , padding='same' , activation='relu')(input_img)"
   ]
  },
  {
   "cell_type": "code",
   "execution_count": 12,
   "id": "21d3d993-eee4-4530-866b-7ac4793b1ecc",
   "metadata": {},
   "outputs": [],
   "source": [
    "x = layers.Conv2D(64 , 3 , padding='same' , activation='relu' , strides = (2,2))(x)"
   ]
  },
  {
   "cell_type": "code",
   "execution_count": 14,
   "id": "62e8d1af-8624-4c69-b7c7-31db20c20e84",
   "metadata": {},
   "outputs": [],
   "source": [
    "x = layers.Conv2D(64 , 3 , padding='same' , activation='relu')(x)"
   ]
  },
  {
   "cell_type": "code",
   "execution_count": 15,
   "id": "1428d7f4-7b04-43aa-84df-36178ffbeb76",
   "metadata": {},
   "outputs": [],
   "source": [
    "x = layers.Conv2D(64 , 3 , padding='same' , activation='relu')(x)"
   ]
  },
  {
   "cell_type": "code",
   "execution_count": 16,
   "id": "84b33537-b93e-4f68-94c7-e76f8a90616c",
   "metadata": {},
   "outputs": [],
   "source": [
    "shape_before_flatenning = K.int_shape(x)"
   ]
  },
  {
   "cell_type": "code",
   "execution_count": 17,
   "id": "d929f200-76c3-4b1b-96d0-f8cc0daad40d",
   "metadata": {},
   "outputs": [],
   "source": [
    "x = layers.Flatten()(x)"
   ]
  },
  {
   "cell_type": "code",
   "execution_count": 18,
   "id": "cee174ad-4358-496f-94c2-be1f0f8e9d4c",
   "metadata": {},
   "outputs": [],
   "source": [
    "x = layers.Dense(32 , activation='relu')(x)"
   ]
  },
  {
   "cell_type": "code",
   "execution_count": 19,
   "id": "fbeeee64-8421-445e-81bd-d29da1a3190a",
   "metadata": {},
   "outputs": [],
   "source": [
    "z_mean = layers.Dense(latent_dim)(x)"
   ]
  },
  {
   "cell_type": "code",
   "execution_count": 20,
   "id": "d161909e-64a7-4477-9265-357fb247e11f",
   "metadata": {},
   "outputs": [],
   "source": [
    "z_log_var = layers.Dense(latent_dim)(x)"
   ]
  },
  {
   "cell_type": "code",
   "execution_count": 24,
   "id": "9af7878a-a0d5-4e7b-9d4d-bcaaf1c87832",
   "metadata": {},
   "outputs": [],
   "source": [
    "def sampling(args):\n",
    "    z_mean , z_log_var = args\n",
    "    epsilon= K.random_normal(shape=(K.shape(z_mean)[0] , latent_dim), mean=0, stddev=1.0)\n",
    "    return z_mean + K.exp(z_log_var) * epsilon\n",
    "z = layers.Lambda(sampling)([z_mean , z_log_var])"
   ]
  },
  {
   "cell_type": "code",
   "execution_count": 25,
   "id": "8d1bffa6-12ec-4806-bdf4-f523b55830ec",
   "metadata": {},
   "outputs": [],
   "source": [
    "decoder_input = layers.Input(K.int_shape(z)[1:])"
   ]
  },
  {
   "cell_type": "code",
   "execution_count": 27,
   "id": "b313ac48-e7ce-442e-becd-75b8a96db66b",
   "metadata": {},
   "outputs": [
    {
     "ename": "NameError",
     "evalue": "name 'shape_before_falttening' is not defined",
     "output_type": "error",
     "traceback": [
      "\u001b[0;31m---------------------------------------------------------------------------\u001b[0m",
      "\u001b[0;31mNameError\u001b[0m                                 Traceback (most recent call last)",
      "\u001b[0;32m<ipython-input-27-4725c1092846>\u001b[0m in \u001b[0;36m<module>\u001b[0;34m\u001b[0m\n\u001b[0;32m----> 1\u001b[0;31m x = layers.Dense(np.prod(shape_before_falttening[1:]),\n\u001b[0m\u001b[1;32m      2\u001b[0m                 activation='relu')(decoder_input)\n",
      "\u001b[0;31mNameError\u001b[0m: name 'shape_before_falttening' is not defined"
     ]
    }
   ],
   "source": [
    "x = layers.Dense(np.prod(shape_before_falttening[1:]),\n",
    "                activation='relu')(decoder_input)"
   ]
  },
  {
   "cell_type": "code",
   "execution_count": null,
   "id": "a4523ebe-b421-4b0f-886f-69f6ad13fb85",
   "metadata": {},
   "outputs": [],
   "source": [
    "k"
   ]
  }
 ],
 "metadata": {
  "kernelspec": {
   "display_name": "Python 3",
   "language": "python",
   "name": "python3"
  },
  "language_info": {
   "codemirror_mode": {
    "name": "ipython",
    "version": 3
   },
   "file_extension": ".py",
   "mimetype": "text/x-python",
   "name": "python",
   "nbconvert_exporter": "python",
   "pygments_lexer": "ipython3",
   "version": "3.9.6"
  }
 },
 "nbformat": 4,
 "nbformat_minor": 5
}
