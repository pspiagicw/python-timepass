{
 "cells": [
  {
   "cell_type": "code",
   "execution_count": 1,
   "id": "229876ca-f0f0-4267-ad7b-82b8c3107a18",
   "metadata": {},
   "outputs": [],
   "source": [
    "from tensorflow import keras"
   ]
  },
  {
   "cell_type": "code",
   "execution_count": 2,
   "id": "88d8875e-2a4e-47cc-8add-243c3104e5a5",
   "metadata": {},
   "outputs": [],
   "source": [
    "from keras import layers"
   ]
  },
  {
   "cell_type": "code",
   "execution_count": 17,
   "id": "5d571696-e9ca-4fe6-82d5-7cefd098ffd7",
   "metadata": {},
   "outputs": [],
   "source": [
    "import tensorflow"
   ]
  },
  {
   "cell_type": "code",
   "execution_count": 3,
   "id": "ac68acaa-ed28-4f55-9c75-048acfa5e735",
   "metadata": {},
   "outputs": [],
   "source": [
    "import numpy as np"
   ]
  },
  {
   "cell_type": "code",
   "execution_count": 182,
   "id": "b19741ef-1fd7-436f-8d0e-a691d711483a",
   "metadata": {},
   "outputs": [],
   "source": [
    "input = [\n",
    "    [ 1 , 1],\n",
    "    [ 0 , 0],\n",
    "    [ 1 , 0],\n",
    "    [ 0 , 1]\n",
    "] * 3\n",
    "output = [ \n",
    "    [ 1 ],\n",
    "    [ 0],\n",
    "    [ 1],\n",
    "    [ 1 ],\n",
    "] * 3\n",
    "\n",
    "model = keras.Sequential([\n",
    "    layers.Dense(1 , activation='relu'),\n",
    "])\n",
    "model.compile(loss='mean_absolute_error',optimizer='adam')"
   ]
  },
  {
   "cell_type": "code",
   "execution_count": 59,
   "id": "8a0f762b-c56b-4e9c-aabb-55a255ab79de",
   "metadata": {},
   "outputs": [
    {
     "data": {
      "text/plain": [
       "<tf.Tensor: shape=(), dtype=int32, numpy=1000>"
      ]
     },
     "execution_count": 59,
     "metadata": {},
     "output_type": "execute_result"
    }
   ],
   "source": [
    "tensorflow.shape(input)[0]"
   ]
  },
  {
   "cell_type": "code",
   "execution_count": 130,
   "id": "a159ceac-a5a8-4f6b-a85a-8763dd424e15",
   "metadata": {},
   "outputs": [
    {
     "ename": "AttributeError",
     "evalue": "'list' object has no attribute 'shape'",
     "output_type": "error",
     "traceback": [
      "\u001b[0;31m---------------------------------------------------------------------------\u001b[0m",
      "\u001b[0;31mAttributeError\u001b[0m                            Traceback (most recent call last)",
      "\u001b[0;32m/tmp/ipykernel_271260/1230197557.py\u001b[0m in \u001b[0;36m<module>\u001b[0;34m\u001b[0m\n\u001b[0;32m----> 1\u001b[0;31m \u001b[0minput\u001b[0m\u001b[0;34m.\u001b[0m\u001b[0mshape\u001b[0m\u001b[0;34m\u001b[0m\u001b[0;34m\u001b[0m\u001b[0m\n\u001b[0m",
      "\u001b[0;31mAttributeError\u001b[0m: 'list' object has no attribute 'shape'"
     ]
    }
   ],
   "source": [
    "input.shape"
   ]
  },
  {
   "cell_type": "code",
   "execution_count": null,
   "id": "e27d6b47-9c66-4deb-9149-dd2acb895928",
   "metadata": {},
   "outputs": [],
   "source": [
    "output"
   ]
  },
  {
   "cell_type": "code",
   "execution_count": 144,
   "id": "3e790a79-84d8-48a0-a81b-21a61dcee9d6",
   "metadata": {},
   "outputs": [
    {
     "data": {
      "text/plain": [
       "<keras.layers.core.Dense at 0x7f064188cc40>"
      ]
     },
     "execution_count": 144,
     "metadata": {},
     "output_type": "execute_result"
    }
   ],
   "source": [
    "model.layers[0]"
   ]
  },
  {
   "cell_type": "code",
   "execution_count": 183,
   "id": "9cb762c3-2bce-4d7d-aa87-d7a0e04b93b7",
   "metadata": {},
   "outputs": [
    {
     "name": "stdout",
     "output_type": "stream",
     "text": [
      "Epoch 1/20\n",
      "1/1 [==============================] - 0s 303ms/step - loss: 0.3035\n",
      "Epoch 2/20\n",
      "1/1 [==============================] - 0s 7ms/step - loss: 0.3028\n",
      "Epoch 3/20\n",
      "1/1 [==============================] - 0s 8ms/step - loss: 0.3020\n",
      "Epoch 4/20\n",
      "1/1 [==============================] - 0s 7ms/step - loss: 0.3013\n",
      "Epoch 5/20\n",
      "1/1 [==============================] - 0s 24ms/step - loss: 0.3005\n",
      "Epoch 6/20\n",
      "1/1 [==============================] - 0s 13ms/step - loss: 0.2998\n",
      "Epoch 7/20\n",
      "1/1 [==============================] - 0s 3ms/step - loss: 0.2990\n",
      "Epoch 8/20\n",
      "1/1 [==============================] - 0s 4ms/step - loss: 0.2983\n",
      "Epoch 9/20\n",
      "1/1 [==============================] - 0s 26ms/step - loss: 0.2975\n",
      "Epoch 10/20\n",
      "1/1 [==============================] - 0s 16ms/step - loss: 0.2968\n",
      "Epoch 11/20\n",
      "1/1 [==============================] - 0s 3ms/step - loss: 0.2960\n",
      "Epoch 12/20\n",
      "1/1 [==============================] - 0s 9ms/step - loss: 0.2953\n",
      "Epoch 13/20\n",
      "1/1 [==============================] - 0s 5ms/step - loss: 0.2945\n",
      "Epoch 14/20\n",
      "1/1 [==============================] - 0s 12ms/step - loss: 0.2938\n",
      "Epoch 15/20\n",
      "1/1 [==============================] - 0s 6ms/step - loss: 0.2930\n",
      "Epoch 16/20\n",
      "1/1 [==============================] - 0s 8ms/step - loss: 0.2923\n",
      "Epoch 17/20\n",
      "1/1 [==============================] - 0s 6ms/step - loss: 0.2915\n",
      "Epoch 18/20\n",
      "1/1 [==============================] - 0s 7ms/step - loss: 0.2908\n",
      "Epoch 19/20\n",
      "1/1 [==============================] - 0s 25ms/step - loss: 0.2900\n",
      "Epoch 20/20\n",
      "1/1 [==============================] - 0s 7ms/step - loss: 0.2893\n"
     ]
    },
    {
     "data": {
      "text/plain": [
       "<keras.callbacks.History at 0x7f0640cbb3d0>"
      ]
     },
     "execution_count": 183,
     "metadata": {},
     "output_type": "execute_result"
    }
   ],
   "source": [
    "model.fit(input,output,epochs=20)"
   ]
  },
  {
   "cell_type": "code",
   "execution_count": 192,
   "id": "8599899b-35a6-4cc9-9fad-2e69e90741ad",
   "metadata": {},
   "outputs": [
    {
     "data": {
      "text/plain": [
       "array([[1.8586575],\n",
       "       [0.       ],\n",
       "       [1.0670402],\n",
       "       [0.7716174]], dtype=float32)"
      ]
     },
     "execution_count": 192,
     "metadata": {},
     "output_type": "execute_result"
    }
   ],
   "source": [
    "model.predict([\n",
    "[ 1,  1],\n",
    "[ 0 , 0],\n",
    "[ 0 , 1],\n",
    "[ 1 , 0],\n",
    "])"
   ]
  }
 ],
 "metadata": {
  "kernelspec": {
   "display_name": "Python 3 (ipykernel)",
   "language": "python",
   "name": "python3"
  },
  "language_info": {
   "codemirror_mode": {
    "name": "ipython",
    "version": 3
   },
   "file_extension": ".py",
   "mimetype": "text/x-python",
   "name": "python",
   "nbconvert_exporter": "python",
   "pygments_lexer": "ipython3",
   "version": "3.9.7"
  }
 },
 "nbformat": 4,
 "nbformat_minor": 5
}
