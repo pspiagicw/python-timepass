{
 "cells": [
  {
   "cell_type": "code",
   "execution_count": 261,
   "id": "cc6e8812-2514-4ca4-a1cc-a4415d058601",
   "metadata": {},
   "outputs": [],
   "source": [
    "from tensorflow import keras"
   ]
  },
  {
   "cell_type": "code",
   "execution_count": 262,
   "id": "16fed4f4-1d49-4fd7-a8ed-3980857cb3d9",
   "metadata": {},
   "outputs": [],
   "source": [
    "import matplotlib.pyplot as plt"
   ]
  },
  {
   "cell_type": "code",
   "execution_count": 263,
   "id": "2c92e50d-a868-479d-a01b-10268968e996",
   "metadata": {},
   "outputs": [],
   "source": [
    "import numpy as np"
   ]
  },
  {
   "cell_type": "code",
   "execution_count": 264,
   "id": "6f184426-4d45-435a-b54a-50a5252e1f5c",
   "metadata": {},
   "outputs": [],
   "source": [
    "import pandas as pd"
   ]
  },
  {
   "cell_type": "code",
   "execution_count": 265,
   "id": "d686e129-b8da-4c5e-b4cc-165b826ca30d",
   "metadata": {},
   "outputs": [],
   "source": [
    "( train_x , train_y ) , ( test_x , test_y ) = keras.datasets.mnist.load_data()"
   ]
  },
  {
   "cell_type": "code",
   "execution_count": 266,
   "id": "8b2dcc36-f191-4f4e-b083-934b631eb04b",
   "metadata": {},
   "outputs": [
    {
     "data": {
      "text/plain": [
       "(60000, 28, 28)"
      ]
     },
     "execution_count": 266,
     "metadata": {},
     "output_type": "execute_result"
    }
   ],
   "source": [
    "train_x.shape"
   ]
  },
  {
   "cell_type": "code",
   "execution_count": 267,
   "id": "9d01daa1-7e7f-4374-9df0-081d39e91267",
   "metadata": {},
   "outputs": [],
   "source": [
    "train_x = np.concatenate([ train_x  for i in range(10)])"
   ]
  },
  {
   "cell_type": "code",
   "execution_count": 268,
   "id": "cc3c1ffd-cf60-4e6c-a8b9-e6058040d16f",
   "metadata": {},
   "outputs": [
    {
     "data": {
      "text/plain": [
       "(600000, 28, 28)"
      ]
     },
     "execution_count": 268,
     "metadata": {},
     "output_type": "execute_result"
    }
   ],
   "source": [
    "train_x.shape"
   ]
  },
  {
   "cell_type": "code",
   "execution_count": 269,
   "id": "967cbdc2-57f9-4a0d-803f-d26f32abff43",
   "metadata": {},
   "outputs": [
    {
     "data": {
      "text/plain": [
       "(60000,)"
      ]
     },
     "execution_count": 269,
     "metadata": {},
     "output_type": "execute_result"
    }
   ],
   "source": [
    "train_y.shape"
   ]
  },
  {
   "cell_type": "code",
   "execution_count": 270,
   "id": "61cc6c4c-573c-4fd8-a3c4-a86f87cd13ee",
   "metadata": {},
   "outputs": [
    {
     "data": {
      "text/plain": [
       "(10000, 28, 28)"
      ]
     },
     "execution_count": 270,
     "metadata": {},
     "output_type": "execute_result"
    }
   ],
   "source": [
    "test_x.shape"
   ]
  },
  {
   "cell_type": "code",
   "execution_count": 271,
   "id": "f1ba38b7-f979-489c-a060-c7295f3b04d4",
   "metadata": {},
   "outputs": [
    {
     "data": {
      "text/plain": [
       "(10000,)"
      ]
     },
     "execution_count": 271,
     "metadata": {},
     "output_type": "execute_result"
    }
   ],
   "source": [
    "test_y.shape"
   ]
  },
  {
   "cell_type": "code",
   "execution_count": 272,
   "id": "0cfd7ee4-2d8a-4358-883c-3d72557cc0d4",
   "metadata": {},
   "outputs": [],
   "source": [
    "height = 28\n",
    "width = 28\n",
    "channels = 1\n",
    "latent_space = 10"
   ]
  },
  {
   "cell_type": "code",
   "execution_count": 273,
   "id": "e5dd54e2-5014-4ff2-9a30-878baf6d7b04",
   "metadata": {},
   "outputs": [],
   "source": [
    "discriminator = keras.Sequential([\n",
    "    keras.layers.Input(shape=(height,width,channels)),\n",
    "    keras.layers.Conv2D(filters=128 , kernel_size=(2,2)  , activation='relu'),\n",
    "    keras.layers.MaxPooling2D(pool_size=(2,2)),\n",
    "    keras.layers.Conv2D(filters=64 , kernel_size=(2,2)),\n",
    "    keras.layers.MaxPooling2D(pool_size=(2,2)),\n",
    "    keras.layers.Flatten(),\n",
    "    keras.layers.Dense(100,activation='relu'),\n",
    "    keras.layers.Dense(1,activation='sigmoid')\n",
    "])"
   ]
  },
  {
   "cell_type": "code",
   "execution_count": 274,
   "id": "4eb048fd-9f0a-45b7-891e-e857dfa51ef9",
   "metadata": {},
   "outputs": [
    {
     "name": "stdout",
     "output_type": "stream",
     "text": [
      "Model: \"sequential_40\"\n",
      "_________________________________________________________________\n",
      "Layer (type)                 Output Shape              Param #   \n",
      "=================================================================\n",
      "conv2d_42 (Conv2D)           (None, 27, 27, 128)       640       \n",
      "_________________________________________________________________\n",
      "max_pooling2d_21 (MaxPooling (None, 13, 13, 128)       0         \n",
      "_________________________________________________________________\n",
      "conv2d_43 (Conv2D)           (None, 12, 12, 64)        32832     \n",
      "_________________________________________________________________\n",
      "max_pooling2d_22 (MaxPooling (None, 6, 6, 64)          0         \n",
      "_________________________________________________________________\n",
      "flatten_10 (Flatten)         (None, 2304)              0         \n",
      "_________________________________________________________________\n",
      "dense_44 (Dense)             (None, 100)               230500    \n",
      "_________________________________________________________________\n",
      "dense_45 (Dense)             (None, 1)                 101       \n",
      "=================================================================\n",
      "Total params: 264,073\n",
      "Trainable params: 264,073\n",
      "Non-trainable params: 0\n",
      "_________________________________________________________________\n"
     ]
    }
   ],
   "source": [
    "discriminator.summary()"
   ]
  },
  {
   "cell_type": "code",
   "execution_count": 275,
   "id": "afaa5f6c-2c03-499f-8ce6-de1806d33961",
   "metadata": {},
   "outputs": [],
   "source": [
    "discriminator.compile(optimizer='adam',loss='binary_crossentropy')"
   ]
  },
  {
   "cell_type": "code",
   "execution_count": 276,
   "id": "08a2e14d-e3e5-4598-9d28-ae4bf7348f42",
   "metadata": {},
   "outputs": [],
   "source": [
    "generator = keras.Sequential([\n",
    "    keras.layers.Dense(128 * 7 * 7 , input_shape=(10,)),\n",
    "    keras.layers.Reshape((7,7,128)),\n",
    "    keras.layers.Conv2DTranspose(64 , kernel_size=(2,2) , strides =2 , padding='same' ),\n",
    "    keras.layers.LeakyReLU(),\n",
    "    keras.layers.Conv2DTranspose(64 , kernel_size=(2,2) , strides= 2 , padding='same'),\n",
    "    keras.layers.LeakyReLU(),    \n",
    "    keras.layers.Conv2D(channels , kernel_size=(2,2) , padding='same')\n",
    "    \n",
    "])"
   ]
  },
  {
   "cell_type": "code",
   "execution_count": 277,
   "id": "b8b48785-bee8-4d61-934a-caad2d321c1f",
   "metadata": {},
   "outputs": [
    {
     "name": "stdout",
     "output_type": "stream",
     "text": [
      "Model: \"sequential_41\"\n",
      "_________________________________________________________________\n",
      "Layer (type)                 Output Shape              Param #   \n",
      "=================================================================\n",
      "dense_46 (Dense)             (None, 6272)              68992     \n",
      "_________________________________________________________________\n",
      "reshape_21 (Reshape)         (None, 7, 7, 128)         0         \n",
      "_________________________________________________________________\n",
      "conv2d_transpose_48 (Conv2DT (None, 14, 14, 64)        32832     \n",
      "_________________________________________________________________\n",
      "leaky_re_lu_49 (LeakyReLU)   (None, 14, 14, 64)        0         \n",
      "_________________________________________________________________\n",
      "conv2d_transpose_49 (Conv2DT (None, 28, 28, 64)        16448     \n",
      "_________________________________________________________________\n",
      "leaky_re_lu_50 (LeakyReLU)   (None, 28, 28, 64)        0         \n",
      "_________________________________________________________________\n",
      "conv2d_44 (Conv2D)           (None, 28, 28, 1)         257       \n",
      "=================================================================\n",
      "Total params: 118,529\n",
      "Trainable params: 118,529\n",
      "Non-trainable params: 0\n",
      "_________________________________________________________________\n"
     ]
    }
   ],
   "source": [
    "generator.summary()"
   ]
  },
  {
   "cell_type": "code",
   "execution_count": 278,
   "id": "a405fadc-97c7-4a33-96dd-6b68e42dee14",
   "metadata": {},
   "outputs": [],
   "source": [
    "gan = keras.Sequential([\n",
    "    generator,\n",
    "    discriminator\n",
    "])"
   ]
  },
  {
   "cell_type": "code",
   "execution_count": 279,
   "id": "01bb2ac7-77a6-4a72-b8b2-f5c62cee7b67",
   "metadata": {},
   "outputs": [
    {
     "name": "stdout",
     "output_type": "stream",
     "text": [
      "Model: \"sequential_42\"\n",
      "_________________________________________________________________\n",
      "Layer (type)                 Output Shape              Param #   \n",
      "=================================================================\n",
      "sequential_41 (Sequential)   (None, 28, 28, 1)         118529    \n",
      "_________________________________________________________________\n",
      "sequential_40 (Sequential)   (None, 1)                 264073    \n",
      "=================================================================\n",
      "Total params: 382,602\n",
      "Trainable params: 382,602\n",
      "Non-trainable params: 0\n",
      "_________________________________________________________________\n"
     ]
    }
   ],
   "source": [
    "gan.summary()"
   ]
  },
  {
   "cell_type": "code",
   "execution_count": 280,
   "id": "d573690e-71bf-467e-86d1-d7d7ce24ef59",
   "metadata": {},
   "outputs": [],
   "source": [
    "discriminator.trainable = False"
   ]
  },
  {
   "cell_type": "code",
   "execution_count": 281,
   "id": "c7cab824-752f-432b-88ab-c5d60591b307",
   "metadata": {},
   "outputs": [
    {
     "name": "stdout",
     "output_type": "stream",
     "text": [
      "Model: \"sequential_42\"\n",
      "_________________________________________________________________\n",
      "Layer (type)                 Output Shape              Param #   \n",
      "=================================================================\n",
      "sequential_41 (Sequential)   (None, 28, 28, 1)         118529    \n",
      "_________________________________________________________________\n",
      "sequential_40 (Sequential)   (None, 1)                 264073    \n",
      "=================================================================\n",
      "Total params: 382,602\n",
      "Trainable params: 118,529\n",
      "Non-trainable params: 264,073\n",
      "_________________________________________________________________\n"
     ]
    }
   ],
   "source": [
    "gan.summary()"
   ]
  },
  {
   "cell_type": "code",
   "execution_count": 282,
   "id": "95002a52-024f-4546-9af1-cc8dd2510826",
   "metadata": {},
   "outputs": [],
   "source": [
    "gan.compile(optimizer='adam',loss='binary_crossentropy')"
   ]
  },
  {
   "cell_type": "code",
   "execution_count": 283,
   "id": "ba6f4098-5741-4dc2-a028-189307734dab",
   "metadata": {},
   "outputs": [
    {
     "name": "stdout",
     "output_type": "stream",
     "text": [
      "Model: \"sequential_40\"\n",
      "_________________________________________________________________\n",
      "Layer (type)                 Output Shape              Param #   \n",
      "=================================================================\n",
      "conv2d_42 (Conv2D)           (None, 27, 27, 128)       640       \n",
      "_________________________________________________________________\n",
      "max_pooling2d_21 (MaxPooling (None, 13, 13, 128)       0         \n",
      "_________________________________________________________________\n",
      "conv2d_43 (Conv2D)           (None, 12, 12, 64)        32832     \n",
      "_________________________________________________________________\n",
      "max_pooling2d_22 (MaxPooling (None, 6, 6, 64)          0         \n",
      "_________________________________________________________________\n",
      "flatten_10 (Flatten)         (None, 2304)              0         \n",
      "_________________________________________________________________\n",
      "dense_44 (Dense)             (None, 100)               230500    \n",
      "_________________________________________________________________\n",
      "dense_45 (Dense)             (None, 1)                 101       \n",
      "=================================================================\n",
      "Total params: 264,073\n",
      "Trainable params: 0\n",
      "Non-trainable params: 264,073\n",
      "_________________________________________________________________\n"
     ]
    }
   ],
   "source": [
    "discriminator.summary()"
   ]
  },
  {
   "cell_type": "code",
   "execution_count": 284,
   "id": "dec2a155-1e55-44b2-8220-50fe79fa8d0f",
   "metadata": {},
   "outputs": [],
   "source": [
    "iterations = 10000\n",
    "batch_size = 20"
   ]
  },
  {
   "cell_type": "code",
   "execution_count": 285,
   "id": "9496bd9b-65a6-4102-83b6-827a878fdb1a",
   "metadata": {},
   "outputs": [],
   "source": [
    "import cv2"
   ]
  },
  {
   "cell_type": "code",
   "execution_count": 286,
   "id": "b2ae7bcc-5bcb-4728-bc3c-b55fcbfd8ec5",
   "metadata": {},
   "outputs": [
    {
     "name": "stdout",
     "output_type": "stream",
     "text": [
      "discriminator loss 0.34859079122543335\n",
      "gan network loss 0.7055771946907043\n",
      "discriminator loss 0.020203057676553726\n",
      "gan network loss 15.497807502746582\n",
      "discriminator loss 0.0015364865539595485\n",
      "gan network loss 11.842446327209473\n",
      "discriminator loss 5.931102714384906e-05\n",
      "gan network loss 13.131963729858398\n",
      "discriminator loss 0.0007707127369940281\n",
      "gan network loss 11.959858894348145\n",
      "discriminator loss 0.009294599294662476\n",
      "gan network loss 10.052716255187988\n",
      "discriminator loss 0.009852299466729164\n",
      "gan network loss 16.8698787689209\n",
      "discriminator loss 1.129100146712858e-09\n",
      "gan network loss 26.32010841369629\n",
      "discriminator loss 0.00033134082332253456\n",
      "gan network loss 20.12612533569336\n",
      "discriminator loss 0.00030147837242111564\n",
      "gan network loss 15.493242263793945\n",
      "discriminator loss 0.02193342335522175\n",
      "gan network loss 13.002909660339355\n",
      "discriminator loss 0.05412909388542175\n",
      "gan network loss 11.102056503295898\n",
      "discriminator loss 0.00023519578098785132\n",
      "gan network loss 16.934263229370117\n",
      "discriminator loss 0.0007904826779849827\n",
      "gan network loss 11.676281929016113\n",
      "discriminator loss 7.619780080858618e-05\n",
      "gan network loss 9.59799575805664\n",
      "discriminator loss 0.0003039791772607714\n",
      "gan network loss 12.364763259887695\n",
      "discriminator loss 5.205349953030236e-05\n",
      "gan network loss 11.681921005249023\n",
      "discriminator loss 1.7155286968772998e-06\n",
      "gan network loss 14.810819625854492\n",
      "discriminator loss 0.0004321201704442501\n",
      "gan network loss 13.756060600280762\n",
      "discriminator loss 0.0157603956758976\n",
      "gan network loss 12.693509101867676\n",
      "discriminator loss 4.3972835555905476e-05\n",
      "gan network loss 14.419774055480957\n",
      "discriminator loss 0.0024163522757589817\n",
      "gan network loss 8.025985717773438\n",
      "discriminator loss 0.01597440615296364\n",
      "gan network loss 7.248618125915527\n",
      "discriminator loss 0.001420901040546596\n",
      "gan network loss 12.017403602600098\n",
      "discriminator loss 0.000507561897393316\n",
      "gan network loss 8.695186614990234\n",
      "discriminator loss 0.006764344871044159\n",
      "gan network loss 8.669066429138184\n",
      "discriminator loss 0.11188886314630508\n",
      "gan network loss 6.315122127532959\n",
      "discriminator loss 0.09560257196426392\n",
      "gan network loss 7.6802568435668945\n",
      "discriminator loss 0.0028573067393153906\n",
      "gan network loss 8.923704147338867\n",
      "discriminator loss 0.006734388414770365\n",
      "gan network loss 7.74979305267334\n",
      "discriminator loss 0.08354838192462921\n",
      "gan network loss 8.008089065551758\n",
      "discriminator loss 0.029650207608938217\n",
      "gan network loss 4.933341979980469\n",
      "discriminator loss 0.0034306750167161226\n",
      "gan network loss 7.635682582855225\n",
      "discriminator loss 0.007050353102385998\n",
      "gan network loss 5.667101860046387\n",
      "discriminator loss 0.005292076617479324\n",
      "gan network loss 5.135949611663818\n",
      "discriminator loss 0.061785925179719925\n",
      "gan network loss 3.027364730834961\n",
      "discriminator loss 0.0008269522222690284\n",
      "gan network loss 7.832546234130859\n",
      "discriminator loss 0.07855136692523956\n",
      "gan network loss 3.866016387939453\n",
      "discriminator loss 0.05885682255029678\n",
      "gan network loss 6.270215034484863\n",
      "discriminator loss 0.015136318281292915\n",
      "gan network loss 3.95076060295105\n",
      "discriminator loss 0.01983265019953251\n",
      "gan network loss 5.6463236808776855\n",
      "discriminator loss 0.030636008828878403\n",
      "gan network loss 3.9768104553222656\n",
      "discriminator loss 0.009579529985785484\n",
      "gan network loss 3.9647815227508545\n",
      "discriminator loss 0.013721251860260963\n",
      "gan network loss 5.388336658477783\n",
      "discriminator loss 0.2885804772377014\n",
      "gan network loss 4.953224182128906\n",
      "discriminator loss 0.003121099667623639\n",
      "gan network loss 5.521055698394775\n",
      "discriminator loss 0.0014911458129063249\n",
      "gan network loss 7.539288520812988\n",
      "discriminator loss 0.02655814029276371\n",
      "gan network loss 5.13192081451416\n",
      "discriminator loss 0.001590036554262042\n",
      "gan network loss 6.580061435699463\n",
      "discriminator loss 0.037376705557107925\n",
      "gan network loss 6.910956382751465\n",
      "discriminator loss 3.700670276884921e-05\n",
      "gan network loss 9.807014465332031\n",
      "discriminator loss 0.03226756677031517\n",
      "gan network loss 4.138937473297119\n",
      "discriminator loss 0.0011348119005560875\n",
      "gan network loss 8.041666030883789\n",
      "discriminator loss 0.012305413372814655\n",
      "gan network loss 6.7144927978515625\n",
      "discriminator loss 0.00013027880049776286\n",
      "gan network loss 10.27099323272705\n",
      "discriminator loss 0.0027765766717493534\n",
      "gan network loss 6.369087219238281\n",
      "discriminator loss 0.003968565259128809\n",
      "gan network loss 4.981855392456055\n",
      "discriminator loss 0.0003703768888954073\n",
      "gan network loss 8.85103988647461\n",
      "discriminator loss 0.00041189990588463843\n",
      "gan network loss 7.935873508453369\n",
      "discriminator loss 0.008996779099106789\n",
      "gan network loss 7.168459415435791\n"
     ]
    },
    {
     "ename": "KeyboardInterrupt",
     "evalue": "",
     "output_type": "error",
     "traceback": [
      "\u001b[0;31m---------------------------------------------------------------------------\u001b[0m",
      "\u001b[0;31mKeyboardInterrupt\u001b[0m                         Traceback (most recent call last)",
      "\u001b[0;32m<ipython-input-286-840eee1d4ff7>\u001b[0m in \u001b[0;36m<module>\u001b[0;34m\u001b[0m\n\u001b[1;32m      6\u001b[0m     \u001b[0mrandom_latent_space\u001b[0m \u001b[0;34m=\u001b[0m \u001b[0mnp\u001b[0m\u001b[0;34m.\u001b[0m\u001b[0mrandom\u001b[0m\u001b[0;34m.\u001b[0m\u001b[0mnormal\u001b[0m\u001b[0;34m(\u001b[0m\u001b[0msize\u001b[0m\u001b[0;34m=\u001b[0m\u001b[0;34m(\u001b[0m\u001b[0mbatch_size\u001b[0m\u001b[0;34m,\u001b[0m\u001b[0mlatent_space\u001b[0m\u001b[0;34m)\u001b[0m\u001b[0;34m)\u001b[0m\u001b[0;34m\u001b[0m\u001b[0;34m\u001b[0m\u001b[0m\n\u001b[1;32m      7\u001b[0m \u001b[0;34m\u001b[0m\u001b[0m\n\u001b[0;32m----> 8\u001b[0;31m     \u001b[0mfake_images\u001b[0m \u001b[0;34m=\u001b[0m \u001b[0mgenerator\u001b[0m\u001b[0;34m.\u001b[0m\u001b[0mpredict\u001b[0m\u001b[0;34m(\u001b[0m\u001b[0mrandom_latent_space\u001b[0m\u001b[0;34m)\u001b[0m\u001b[0;34m\u001b[0m\u001b[0;34m\u001b[0m\u001b[0m\n\u001b[0m\u001b[1;32m      9\u001b[0m \u001b[0;34m\u001b[0m\u001b[0m\n\u001b[1;32m     10\u001b[0m     \u001b[0mreal_images\u001b[0m \u001b[0;34m=\u001b[0m \u001b[0mtrain_x\u001b[0m\u001b[0;34m[\u001b[0m\u001b[0mstart\u001b[0m\u001b[0;34m:\u001b[0m\u001b[0mstop\u001b[0m\u001b[0;34m]\u001b[0m\u001b[0;34m.\u001b[0m\u001b[0mreshape\u001b[0m\u001b[0;34m(\u001b[0m\u001b[0;34m(\u001b[0m\u001b[0;34m-\u001b[0m\u001b[0;36m1\u001b[0m\u001b[0;34m,\u001b[0m\u001b[0;36m28\u001b[0m\u001b[0;34m,\u001b[0m\u001b[0;36m28\u001b[0m\u001b[0;34m,\u001b[0m\u001b[0;36m1\u001b[0m\u001b[0;34m)\u001b[0m\u001b[0;34m)\u001b[0m\u001b[0;34m\u001b[0m\u001b[0;34m\u001b[0m\u001b[0m\n",
      "\u001b[0;32m~/.local/lib/python3.9/site-packages/keras/engine/training.py\u001b[0m in \u001b[0;36mpredict\u001b[0;34m(self, x, batch_size, verbose, steps, callbacks, max_queue_size, workers, use_multiprocessing)\u001b[0m\n\u001b[1;32m   1745\u001b[0m       \u001b[0mcallbacks\u001b[0m\u001b[0;34m.\u001b[0m\u001b[0mon_predict_begin\u001b[0m\u001b[0;34m(\u001b[0m\u001b[0;34m)\u001b[0m\u001b[0;34m\u001b[0m\u001b[0;34m\u001b[0m\u001b[0m\n\u001b[1;32m   1746\u001b[0m       \u001b[0mbatch_outputs\u001b[0m \u001b[0;34m=\u001b[0m \u001b[0;32mNone\u001b[0m\u001b[0;34m\u001b[0m\u001b[0;34m\u001b[0m\u001b[0m\n\u001b[0;32m-> 1747\u001b[0;31m       \u001b[0;32mfor\u001b[0m \u001b[0m_\u001b[0m\u001b[0;34m,\u001b[0m \u001b[0miterator\u001b[0m \u001b[0;32min\u001b[0m \u001b[0mdata_handler\u001b[0m\u001b[0;34m.\u001b[0m\u001b[0menumerate_epochs\u001b[0m\u001b[0;34m(\u001b[0m\u001b[0;34m)\u001b[0m\u001b[0;34m:\u001b[0m  \u001b[0;31m# Single epoch.\u001b[0m\u001b[0;34m\u001b[0m\u001b[0;34m\u001b[0m\u001b[0m\n\u001b[0m\u001b[1;32m   1748\u001b[0m         \u001b[0;32mwith\u001b[0m \u001b[0mdata_handler\u001b[0m\u001b[0;34m.\u001b[0m\u001b[0mcatch_stop_iteration\u001b[0m\u001b[0;34m(\u001b[0m\u001b[0;34m)\u001b[0m\u001b[0;34m:\u001b[0m\u001b[0;34m\u001b[0m\u001b[0;34m\u001b[0m\u001b[0m\n\u001b[1;32m   1749\u001b[0m           \u001b[0;32mfor\u001b[0m \u001b[0mstep\u001b[0m \u001b[0;32min\u001b[0m \u001b[0mdata_handler\u001b[0m\u001b[0;34m.\u001b[0m\u001b[0msteps\u001b[0m\u001b[0;34m(\u001b[0m\u001b[0;34m)\u001b[0m\u001b[0;34m:\u001b[0m\u001b[0;34m\u001b[0m\u001b[0;34m\u001b[0m\u001b[0m\n",
      "\u001b[0;32m~/.local/lib/python3.9/site-packages/keras/engine/data_adapter.py\u001b[0m in \u001b[0;36menumerate_epochs\u001b[0;34m(self)\u001b[0m\n\u001b[1;32m   1178\u001b[0m     \u001b[0;34m\"\"\"Yields `(epoch, tf.data.Iterator)`.\"\"\"\u001b[0m\u001b[0;34m\u001b[0m\u001b[0;34m\u001b[0m\u001b[0m\n\u001b[1;32m   1179\u001b[0m     \u001b[0;32mwith\u001b[0m \u001b[0mself\u001b[0m\u001b[0;34m.\u001b[0m\u001b[0m_truncate_execution_to_epoch\u001b[0m\u001b[0;34m(\u001b[0m\u001b[0;34m)\u001b[0m\u001b[0;34m:\u001b[0m\u001b[0;34m\u001b[0m\u001b[0;34m\u001b[0m\u001b[0m\n\u001b[0;32m-> 1180\u001b[0;31m       \u001b[0mdata_iterator\u001b[0m \u001b[0;34m=\u001b[0m \u001b[0miter\u001b[0m\u001b[0;34m(\u001b[0m\u001b[0mself\u001b[0m\u001b[0;34m.\u001b[0m\u001b[0m_dataset\u001b[0m\u001b[0;34m)\u001b[0m\u001b[0;34m\u001b[0m\u001b[0;34m\u001b[0m\u001b[0m\n\u001b[0m\u001b[1;32m   1181\u001b[0m       \u001b[0;32mfor\u001b[0m \u001b[0mepoch\u001b[0m \u001b[0;32min\u001b[0m \u001b[0mrange\u001b[0m\u001b[0;34m(\u001b[0m\u001b[0mself\u001b[0m\u001b[0;34m.\u001b[0m\u001b[0m_initial_epoch\u001b[0m\u001b[0;34m,\u001b[0m \u001b[0mself\u001b[0m\u001b[0;34m.\u001b[0m\u001b[0m_epochs\u001b[0m\u001b[0;34m)\u001b[0m\u001b[0;34m:\u001b[0m\u001b[0;34m\u001b[0m\u001b[0;34m\u001b[0m\u001b[0m\n\u001b[1;32m   1182\u001b[0m         \u001b[0;32mif\u001b[0m \u001b[0mself\u001b[0m\u001b[0;34m.\u001b[0m\u001b[0m_insufficient_data\u001b[0m\u001b[0;34m:\u001b[0m  \u001b[0;31m# Set by `catch_stop_iteration`.\u001b[0m\u001b[0;34m\u001b[0m\u001b[0;34m\u001b[0m\u001b[0m\n",
      "\u001b[0;32m/usr/lib/python3.9/site-packages/tensorflow/python/data/ops/dataset_ops.py\u001b[0m in \u001b[0;36m__iter__\u001b[0;34m(self)\u001b[0m\n\u001b[1;32m    409\u001b[0m     \u001b[0;32mif\u001b[0m \u001b[0mcontext\u001b[0m\u001b[0;34m.\u001b[0m\u001b[0mexecuting_eagerly\u001b[0m\u001b[0;34m(\u001b[0m\u001b[0;34m)\u001b[0m \u001b[0;32mor\u001b[0m \u001b[0mops\u001b[0m\u001b[0;34m.\u001b[0m\u001b[0minside_function\u001b[0m\u001b[0;34m(\u001b[0m\u001b[0;34m)\u001b[0m\u001b[0;34m:\u001b[0m\u001b[0;34m\u001b[0m\u001b[0;34m\u001b[0m\u001b[0m\n\u001b[1;32m    410\u001b[0m       \u001b[0;32mwith\u001b[0m \u001b[0mops\u001b[0m\u001b[0;34m.\u001b[0m\u001b[0mcolocate_with\u001b[0m\u001b[0;34m(\u001b[0m\u001b[0mself\u001b[0m\u001b[0;34m.\u001b[0m\u001b[0m_variant_tensor\u001b[0m\u001b[0;34m)\u001b[0m\u001b[0;34m:\u001b[0m\u001b[0;34m\u001b[0m\u001b[0;34m\u001b[0m\u001b[0m\n\u001b[0;32m--> 411\u001b[0;31m         \u001b[0;32mreturn\u001b[0m \u001b[0miterator_ops\u001b[0m\u001b[0;34m.\u001b[0m\u001b[0mOwnedIterator\u001b[0m\u001b[0;34m(\u001b[0m\u001b[0mself\u001b[0m\u001b[0;34m)\u001b[0m\u001b[0;34m\u001b[0m\u001b[0;34m\u001b[0m\u001b[0m\n\u001b[0m\u001b[1;32m    412\u001b[0m     \u001b[0;32melse\u001b[0m\u001b[0;34m:\u001b[0m\u001b[0;34m\u001b[0m\u001b[0;34m\u001b[0m\u001b[0m\n\u001b[1;32m    413\u001b[0m       raise RuntimeError(\"__iter__() is only supported inside of tf.function \"\n",
      "\u001b[0;32m/usr/lib/python3.9/site-packages/tensorflow/python/data/ops/iterator_ops.py\u001b[0m in \u001b[0;36m__init__\u001b[0;34m(self, dataset, components, element_spec)\u001b[0m\n\u001b[1;32m    694\u001b[0m       \u001b[0;32mif\u001b[0m \u001b[0;34m(\u001b[0m\u001b[0mcomponents\u001b[0m \u001b[0;32mis\u001b[0m \u001b[0;32mnot\u001b[0m \u001b[0;32mNone\u001b[0m \u001b[0;32mor\u001b[0m \u001b[0melement_spec\u001b[0m \u001b[0;32mis\u001b[0m \u001b[0;32mnot\u001b[0m \u001b[0;32mNone\u001b[0m\u001b[0;34m)\u001b[0m\u001b[0;34m:\u001b[0m\u001b[0;34m\u001b[0m\u001b[0;34m\u001b[0m\u001b[0m\n\u001b[1;32m    695\u001b[0m         \u001b[0;32mraise\u001b[0m \u001b[0mValueError\u001b[0m\u001b[0;34m(\u001b[0m\u001b[0merror_message\u001b[0m\u001b[0;34m)\u001b[0m\u001b[0;34m\u001b[0m\u001b[0;34m\u001b[0m\u001b[0m\n\u001b[0;32m--> 696\u001b[0;31m       \u001b[0mself\u001b[0m\u001b[0;34m.\u001b[0m\u001b[0m_create_iterator\u001b[0m\u001b[0;34m(\u001b[0m\u001b[0mdataset\u001b[0m\u001b[0;34m)\u001b[0m\u001b[0;34m\u001b[0m\u001b[0;34m\u001b[0m\u001b[0m\n\u001b[0m\u001b[1;32m    697\u001b[0m \u001b[0;34m\u001b[0m\u001b[0m\n\u001b[1;32m    698\u001b[0m   \u001b[0;32mdef\u001b[0m \u001b[0m_create_iterator\u001b[0m\u001b[0;34m(\u001b[0m\u001b[0mself\u001b[0m\u001b[0;34m,\u001b[0m \u001b[0mdataset\u001b[0m\u001b[0;34m)\u001b[0m\u001b[0;34m:\u001b[0m\u001b[0;34m\u001b[0m\u001b[0;34m\u001b[0m\u001b[0m\n",
      "\u001b[0;32m/usr/lib/python3.9/site-packages/tensorflow/python/data/ops/iterator_ops.py\u001b[0m in \u001b[0;36m_create_iterator\u001b[0;34m(self, dataset)\u001b[0m\n\u001b[1;32m    717\u001b[0m               \u001b[0moutput_types\u001b[0m\u001b[0;34m=\u001b[0m\u001b[0mself\u001b[0m\u001b[0;34m.\u001b[0m\u001b[0m_flat_output_types\u001b[0m\u001b[0;34m,\u001b[0m\u001b[0;34m\u001b[0m\u001b[0;34m\u001b[0m\u001b[0m\n\u001b[1;32m    718\u001b[0m               output_shapes=self._flat_output_shapes))\n\u001b[0;32m--> 719\u001b[0;31m       \u001b[0mgen_dataset_ops\u001b[0m\u001b[0;34m.\u001b[0m\u001b[0mmake_iterator\u001b[0m\u001b[0;34m(\u001b[0m\u001b[0mds_variant\u001b[0m\u001b[0;34m,\u001b[0m \u001b[0mself\u001b[0m\u001b[0;34m.\u001b[0m\u001b[0m_iterator_resource\u001b[0m\u001b[0;34m)\u001b[0m\u001b[0;34m\u001b[0m\u001b[0;34m\u001b[0m\u001b[0m\n\u001b[0m\u001b[1;32m    720\u001b[0m       \u001b[0;31m# Delete the resource when this object is deleted\u001b[0m\u001b[0;34m\u001b[0m\u001b[0;34m\u001b[0m\u001b[0;34m\u001b[0m\u001b[0m\n\u001b[1;32m    721\u001b[0m       self._resource_deleter = IteratorResourceDeleter(\n",
      "\u001b[0;32m/usr/lib/python3.9/site-packages/tensorflow/python/ops/gen_dataset_ops.py\u001b[0m in \u001b[0;36mmake_iterator\u001b[0;34m(dataset, iterator, name)\u001b[0m\n\u001b[1;32m   3118\u001b[0m   \u001b[0;32mif\u001b[0m \u001b[0mtld\u001b[0m\u001b[0;34m.\u001b[0m\u001b[0mis_eager\u001b[0m\u001b[0;34m:\u001b[0m\u001b[0;34m\u001b[0m\u001b[0;34m\u001b[0m\u001b[0m\n\u001b[1;32m   3119\u001b[0m     \u001b[0;32mtry\u001b[0m\u001b[0;34m:\u001b[0m\u001b[0;34m\u001b[0m\u001b[0;34m\u001b[0m\u001b[0m\n\u001b[0;32m-> 3120\u001b[0;31m       _result = pywrap_tfe.TFE_Py_FastPathExecute(\n\u001b[0m\u001b[1;32m   3121\u001b[0m         _ctx, \"MakeIterator\", name, dataset, iterator)\n\u001b[1;32m   3122\u001b[0m       \u001b[0;32mreturn\u001b[0m \u001b[0m_result\u001b[0m\u001b[0;34m\u001b[0m\u001b[0;34m\u001b[0m\u001b[0m\n",
      "\u001b[0;31mKeyboardInterrupt\u001b[0m: "
     ]
    }
   ],
   "source": [
    "start = 0\n",
    "for i in range(iterations):\n",
    "    \n",
    "    stop = start + batch_size\n",
    "    \n",
    "    random_latent_space = np.random.normal(size=(batch_size,latent_space))\n",
    "    \n",
    "    fake_images = generator.predict(random_latent_space)\n",
    "    \n",
    "    real_images = train_x[start:stop].reshape((-1,28,28,1))\n",
    "    \n",
    "    \n",
    "    combined_images = np.concatenate([fake_images , real_images])\n",
    "\n",
    "    \n",
    "    real_labels = np.concatenate([ np.zeros((batch_size,1)) , np.ones((batch_size,1))])\n",
    "    \n",
    "    \n",
    "    fake_labels = np.ones((batch_size,1))\n",
    "    \n",
    "    discriminator.trainable = True\n",
    "    \n",
    "    d_loss = discriminator.train_on_batch(combined_images , real_labels)\n",
    "    \n",
    "    discriminator.trainable = False   \n",
    "\n",
    "    \n",
    "    a_loss = gan.train_on_batch( random_latent_space , fake_labels)\n",
    "        \n",
    "    start += batch_size\n",
    "    \n",
    "    if i % 100 == 0:\n",
    "        \n",
    "        gan.save_weights('gan.h5')\n",
    "        \n",
    "        print(\"discriminator loss\" , d_loss )\n",
    "        print(\"gan network loss\" , a_loss)\n",
    "        \n",
    "        img = real_images[0]\n",
    "        \n",
    "        cv2.imwrite('MODELS/real_' + str(i) + '.png' , img)\n",
    "        \n",
    "        \n",
    "        img = fake_images[0]\n",
    "        \n",
    "        cv2.imwrite('MODELS/fake_' + str(i) + '.png' , img)\n",
    "        \n",
    "    \n",
    "    "
   ]
  }
 ],
 "metadata": {
  "kernelspec": {
   "display_name": "Python 3",
   "language": "python",
   "name": "python3"
  },
  "language_info": {
   "codemirror_mode": {
    "name": "ipython",
    "version": 3
   },
   "file_extension": ".py",
   "mimetype": "text/x-python",
   "name": "python",
   "nbconvert_exporter": "python",
   "pygments_lexer": "ipython3",
   "version": "3.9.6"
  }
 },
 "nbformat": 4,
 "nbformat_minor": 5
}
